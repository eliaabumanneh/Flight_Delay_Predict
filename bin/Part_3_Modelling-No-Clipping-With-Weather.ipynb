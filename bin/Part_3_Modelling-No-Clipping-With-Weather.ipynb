{
 "cells": [
  {
   "attachments": {},
   "cell_type": "markdown",
   "metadata": {},
   "source": [
    "<center>\n",
    "\n",
    "# Flight Delay Predict\n",
    "\n",
    "#### Data Science Bootcamp Capstone Project\n",
    "#### Elia Abu-Manneh\n",
    "##### April 11 2023\n",
    "\n",
    "</center"
   ]
  },
  {
   "attachments": {},
   "cell_type": "markdown",
   "metadata": {},
   "source": [
    "## Part 3: Neural Network Modelling"
   ]
  },
  {
   "cell_type": "code",
   "execution_count": 1,
   "metadata": {},
   "outputs": [],
   "source": [
    "# Imports\n",
    "\n",
    "import os\n",
    "import pandas as pd\n",
    "import numpy as np\n",
    "from skimage.io import imread\n",
    "from tqdm import tqdm\n",
    "from sklearn.metrics import accuracy_score, classification_report, confusion_matrix\n",
    "from sklearn.utils import shuffle\n",
    "from sklearn.preprocessing import LabelEncoder, OneHotEncoder, MinMaxScaler\n",
    "from sklearn.model_selection import train_test_split\n",
    "import tensorflow as tf\n",
    "import keras\n",
    "from keras.layers import Dense, Conv2D, MaxPooling2D, Flatten, Dropout\n",
    "from keras.models import Sequential\n",
    "from keras.callbacks import Callback, ReduceLROnPlateau, EarlyStopping\n",
    "from tensorflow.keras.losses import SparseCategoricalCrossentropy, CategoricalCrossentropy\n",
    "from tensorflow.keras import datasets, layers, models\n",
    "from IPython.display import clear_output\n",
    "import matplotlib.pyplot as plt\n",
    "import tensorflow.keras.backend as K\n",
    "import re\n",
    "np.random.seed(0)\n",
    "\n",
    "%matplotlib inline\n",
    "import seaborn as sns\n",
    "import PIL\n",
    "from PIL import Image\n",
    "import seaborn as sb"
   ]
  },
  {
   "cell_type": "code",
   "execution_count": 2,
   "metadata": {},
   "outputs": [],
   "source": [
    "ontime_10423 = pd.read_csv('../processed_data/ontime_10423.csv')"
   ]
  },
  {
   "cell_type": "code",
   "execution_count": 3,
   "metadata": {},
   "outputs": [
    {
     "data": {
      "text/html": [
       "<div>\n",
       "<style scoped>\n",
       "    .dataframe tbody tr th:only-of-type {\n",
       "        vertical-align: middle;\n",
       "    }\n",
       "\n",
       "    .dataframe tbody tr th {\n",
       "        vertical-align: top;\n",
       "    }\n",
       "\n",
       "    .dataframe thead th {\n",
       "        text-align: right;\n",
       "    }\n",
       "</style>\n",
       "<table border=\"1\" class=\"dataframe\">\n",
       "  <thead>\n",
       "    <tr style=\"text-align: right;\">\n",
       "      <th></th>\n",
       "      <th>YTD</th>\n",
       "      <th>ORIGIN_AIRPORT_ID</th>\n",
       "      <th>DEP_DELAY</th>\n",
       "      <th>CANCELLED</th>\n",
       "      <th>OP_UNIQUE_CARRIER_9E</th>\n",
       "      <th>OP_UNIQUE_CARRIER_AA</th>\n",
       "      <th>OP_UNIQUE_CARRIER_AS</th>\n",
       "      <th>OP_UNIQUE_CARRIER_B6</th>\n",
       "      <th>OP_UNIQUE_CARRIER_DL</th>\n",
       "      <th>OP_UNIQUE_CARRIER_EV</th>\n",
       "      <th>...</th>\n",
       "      <th>DEST_AIRPORT_ID_14869</th>\n",
       "      <th>DEST_AIRPORT_ID_14893</th>\n",
       "      <th>DEST_AIRPORT_ID_14908</th>\n",
       "      <th>DEST_AIRPORT_ID_14986</th>\n",
       "      <th>DEST_AIRPORT_ID_15016</th>\n",
       "      <th>DEST_AIRPORT_ID_15304</th>\n",
       "      <th>DEST_AIRPORT_ID_15370</th>\n",
       "      <th>DEST_AIRPORT_ID_15412</th>\n",
       "      <th>DEST_AIRPORT_ID_15624</th>\n",
       "      <th>DEST_AIRPORT_ID_15919</th>\n",
       "    </tr>\n",
       "  </thead>\n",
       "  <tbody>\n",
       "    <tr>\n",
       "      <th>count</th>\n",
       "      <td>244019.000000</td>\n",
       "      <td>244019.0</td>\n",
       "      <td>239207.000000</td>\n",
       "      <td>244019.000000</td>\n",
       "      <td>244019.000000</td>\n",
       "      <td>244019.000000</td>\n",
       "      <td>244019.000000</td>\n",
       "      <td>244019.000000</td>\n",
       "      <td>244019.000000</td>\n",
       "      <td>244019.000000</td>\n",
       "      <td>...</td>\n",
       "      <td>244019.000000</td>\n",
       "      <td>244019.000000</td>\n",
       "      <td>244019.000000</td>\n",
       "      <td>244019.000000</td>\n",
       "      <td>244019.000000</td>\n",
       "      <td>244019.000000</td>\n",
       "      <td>244019.000000</td>\n",
       "      <td>244019.000000</td>\n",
       "      <td>244019.000000</td>\n",
       "      <td>244019.000000</td>\n",
       "    </tr>\n",
       "    <tr>\n",
       "      <th>mean</th>\n",
       "      <td>198.873596</td>\n",
       "      <td>10423.0</td>\n",
       "      <td>12.095047</td>\n",
       "      <td>0.019990</td>\n",
       "      <td>0.004094</td>\n",
       "      <td>0.177011</td>\n",
       "      <td>0.028596</td>\n",
       "      <td>0.026387</td>\n",
       "      <td>0.120982</td>\n",
       "      <td>0.000127</td>\n",
       "      <td>...</td>\n",
       "      <td>0.019449</td>\n",
       "      <td>0.004336</td>\n",
       "      <td>0.004996</td>\n",
       "      <td>0.000463</td>\n",
       "      <td>0.013769</td>\n",
       "      <td>0.011983</td>\n",
       "      <td>0.002946</td>\n",
       "      <td>0.000824</td>\n",
       "      <td>0.000582</td>\n",
       "      <td>0.000332</td>\n",
       "    </tr>\n",
       "    <tr>\n",
       "      <th>std</th>\n",
       "      <td>107.056546</td>\n",
       "      <td>0.0</td>\n",
       "      <td>51.191644</td>\n",
       "      <td>0.139967</td>\n",
       "      <td>0.063853</td>\n",
       "      <td>0.381679</td>\n",
       "      <td>0.166669</td>\n",
       "      <td>0.160284</td>\n",
       "      <td>0.326107</td>\n",
       "      <td>0.011270</td>\n",
       "      <td>...</td>\n",
       "      <td>0.138098</td>\n",
       "      <td>0.065703</td>\n",
       "      <td>0.070502</td>\n",
       "      <td>0.021514</td>\n",
       "      <td>0.116533</td>\n",
       "      <td>0.108808</td>\n",
       "      <td>0.054202</td>\n",
       "      <td>0.028689</td>\n",
       "      <td>0.024116</td>\n",
       "      <td>0.018216</td>\n",
       "    </tr>\n",
       "    <tr>\n",
       "      <th>min</th>\n",
       "      <td>1.000000</td>\n",
       "      <td>10423.0</td>\n",
       "      <td>-29.000000</td>\n",
       "      <td>0.000000</td>\n",
       "      <td>0.000000</td>\n",
       "      <td>0.000000</td>\n",
       "      <td>0.000000</td>\n",
       "      <td>0.000000</td>\n",
       "      <td>0.000000</td>\n",
       "      <td>0.000000</td>\n",
       "      <td>...</td>\n",
       "      <td>0.000000</td>\n",
       "      <td>0.000000</td>\n",
       "      <td>0.000000</td>\n",
       "      <td>0.000000</td>\n",
       "      <td>0.000000</td>\n",
       "      <td>0.000000</td>\n",
       "      <td>0.000000</td>\n",
       "      <td>0.000000</td>\n",
       "      <td>0.000000</td>\n",
       "      <td>0.000000</td>\n",
       "    </tr>\n",
       "    <tr>\n",
       "      <th>25%</th>\n",
       "      <td>109.000000</td>\n",
       "      <td>10423.0</td>\n",
       "      <td>-4.000000</td>\n",
       "      <td>0.000000</td>\n",
       "      <td>0.000000</td>\n",
       "      <td>0.000000</td>\n",
       "      <td>0.000000</td>\n",
       "      <td>0.000000</td>\n",
       "      <td>0.000000</td>\n",
       "      <td>0.000000</td>\n",
       "      <td>...</td>\n",
       "      <td>0.000000</td>\n",
       "      <td>0.000000</td>\n",
       "      <td>0.000000</td>\n",
       "      <td>0.000000</td>\n",
       "      <td>0.000000</td>\n",
       "      <td>0.000000</td>\n",
       "      <td>0.000000</td>\n",
       "      <td>0.000000</td>\n",
       "      <td>0.000000</td>\n",
       "      <td>0.000000</td>\n",
       "    </tr>\n",
       "    <tr>\n",
       "      <th>50%</th>\n",
       "      <td>209.000000</td>\n",
       "      <td>10423.0</td>\n",
       "      <td>0.000000</td>\n",
       "      <td>0.000000</td>\n",
       "      <td>0.000000</td>\n",
       "      <td>0.000000</td>\n",
       "      <td>0.000000</td>\n",
       "      <td>0.000000</td>\n",
       "      <td>0.000000</td>\n",
       "      <td>0.000000</td>\n",
       "      <td>...</td>\n",
       "      <td>0.000000</td>\n",
       "      <td>0.000000</td>\n",
       "      <td>0.000000</td>\n",
       "      <td>0.000000</td>\n",
       "      <td>0.000000</td>\n",
       "      <td>0.000000</td>\n",
       "      <td>0.000000</td>\n",
       "      <td>0.000000</td>\n",
       "      <td>0.000000</td>\n",
       "      <td>0.000000</td>\n",
       "    </tr>\n",
       "    <tr>\n",
       "      <th>75%</th>\n",
       "      <td>293.000000</td>\n",
       "      <td>10423.0</td>\n",
       "      <td>8.000000</td>\n",
       "      <td>0.000000</td>\n",
       "      <td>0.000000</td>\n",
       "      <td>0.000000</td>\n",
       "      <td>0.000000</td>\n",
       "      <td>0.000000</td>\n",
       "      <td>0.000000</td>\n",
       "      <td>0.000000</td>\n",
       "      <td>...</td>\n",
       "      <td>0.000000</td>\n",
       "      <td>0.000000</td>\n",
       "      <td>0.000000</td>\n",
       "      <td>0.000000</td>\n",
       "      <td>0.000000</td>\n",
       "      <td>0.000000</td>\n",
       "      <td>0.000000</td>\n",
       "      <td>0.000000</td>\n",
       "      <td>0.000000</td>\n",
       "      <td>0.000000</td>\n",
       "    </tr>\n",
       "    <tr>\n",
       "      <th>max</th>\n",
       "      <td>365.000000</td>\n",
       "      <td>10423.0</td>\n",
       "      <td>2109.000000</td>\n",
       "      <td>1.000000</td>\n",
       "      <td>1.000000</td>\n",
       "      <td>1.000000</td>\n",
       "      <td>1.000000</td>\n",
       "      <td>1.000000</td>\n",
       "      <td>1.000000</td>\n",
       "      <td>1.000000</td>\n",
       "      <td>...</td>\n",
       "      <td>1.000000</td>\n",
       "      <td>1.000000</td>\n",
       "      <td>1.000000</td>\n",
       "      <td>1.000000</td>\n",
       "      <td>1.000000</td>\n",
       "      <td>1.000000</td>\n",
       "      <td>1.000000</td>\n",
       "      <td>1.000000</td>\n",
       "      <td>1.000000</td>\n",
       "      <td>1.000000</td>\n",
       "    </tr>\n",
       "  </tbody>\n",
       "</table>\n",
       "<p>8 rows × 110 columns</p>\n",
       "</div>"
      ],
      "text/plain": [
       "                 YTD  ORIGIN_AIRPORT_ID      DEP_DELAY      CANCELLED  \\\n",
       "count  244019.000000           244019.0  239207.000000  244019.000000   \n",
       "mean      198.873596            10423.0      12.095047       0.019990   \n",
       "std       107.056546                0.0      51.191644       0.139967   \n",
       "min         1.000000            10423.0     -29.000000       0.000000   \n",
       "25%       109.000000            10423.0      -4.000000       0.000000   \n",
       "50%       209.000000            10423.0       0.000000       0.000000   \n",
       "75%       293.000000            10423.0       8.000000       0.000000   \n",
       "max       365.000000            10423.0    2109.000000       1.000000   \n",
       "\n",
       "       OP_UNIQUE_CARRIER_9E  OP_UNIQUE_CARRIER_AA  OP_UNIQUE_CARRIER_AS  \\\n",
       "count         244019.000000         244019.000000         244019.000000   \n",
       "mean               0.004094              0.177011              0.028596   \n",
       "std                0.063853              0.381679              0.166669   \n",
       "min                0.000000              0.000000              0.000000   \n",
       "25%                0.000000              0.000000              0.000000   \n",
       "50%                0.000000              0.000000              0.000000   \n",
       "75%                0.000000              0.000000              0.000000   \n",
       "max                1.000000              1.000000              1.000000   \n",
       "\n",
       "       OP_UNIQUE_CARRIER_B6  OP_UNIQUE_CARRIER_DL  OP_UNIQUE_CARRIER_EV  ...  \\\n",
       "count         244019.000000         244019.000000         244019.000000  ...   \n",
       "mean               0.026387              0.120982              0.000127  ...   \n",
       "std                0.160284              0.326107              0.011270  ...   \n",
       "min                0.000000              0.000000              0.000000  ...   \n",
       "25%                0.000000              0.000000              0.000000  ...   \n",
       "50%                0.000000              0.000000              0.000000  ...   \n",
       "75%                0.000000              0.000000              0.000000  ...   \n",
       "max                1.000000              1.000000              1.000000  ...   \n",
       "\n",
       "       DEST_AIRPORT_ID_14869  DEST_AIRPORT_ID_14893  DEST_AIRPORT_ID_14908  \\\n",
       "count          244019.000000          244019.000000          244019.000000   \n",
       "mean                0.019449               0.004336               0.004996   \n",
       "std                 0.138098               0.065703               0.070502   \n",
       "min                 0.000000               0.000000               0.000000   \n",
       "25%                 0.000000               0.000000               0.000000   \n",
       "50%                 0.000000               0.000000               0.000000   \n",
       "75%                 0.000000               0.000000               0.000000   \n",
       "max                 1.000000               1.000000               1.000000   \n",
       "\n",
       "       DEST_AIRPORT_ID_14986  DEST_AIRPORT_ID_15016  DEST_AIRPORT_ID_15304  \\\n",
       "count          244019.000000          244019.000000          244019.000000   \n",
       "mean                0.000463               0.013769               0.011983   \n",
       "std                 0.021514               0.116533               0.108808   \n",
       "min                 0.000000               0.000000               0.000000   \n",
       "25%                 0.000000               0.000000               0.000000   \n",
       "50%                 0.000000               0.000000               0.000000   \n",
       "75%                 0.000000               0.000000               0.000000   \n",
       "max                 1.000000               1.000000               1.000000   \n",
       "\n",
       "       DEST_AIRPORT_ID_15370  DEST_AIRPORT_ID_15412  DEST_AIRPORT_ID_15624  \\\n",
       "count          244019.000000          244019.000000          244019.000000   \n",
       "mean                0.002946               0.000824               0.000582   \n",
       "std                 0.054202               0.028689               0.024116   \n",
       "min                 0.000000               0.000000               0.000000   \n",
       "25%                 0.000000               0.000000               0.000000   \n",
       "50%                 0.000000               0.000000               0.000000   \n",
       "75%                 0.000000               0.000000               0.000000   \n",
       "max                 1.000000               1.000000               1.000000   \n",
       "\n",
       "       DEST_AIRPORT_ID_15919  \n",
       "count          244019.000000  \n",
       "mean                0.000332  \n",
       "std                 0.018216  \n",
       "min                 0.000000  \n",
       "25%                 0.000000  \n",
       "50%                 0.000000  \n",
       "75%                 0.000000  \n",
       "max                 1.000000  \n",
       "\n",
       "[8 rows x 110 columns]"
      ]
     },
     "execution_count": 3,
     "metadata": {},
     "output_type": "execute_result"
    }
   ],
   "source": [
    "ontime_10423.describe()"
   ]
  },
  {
   "cell_type": "code",
   "execution_count": 4,
   "metadata": {},
   "outputs": [],
   "source": [
    "#y1 = ontime_10423.iloc[:,-64:]\n",
    "y1 = ontime_10423['DEP_DELAY'] #First Variable that we are trying to predict\n",
    "y1.fillna(0, inplace=True)\n",
    "\n",
    "y2 = ontime_10423['CANCELLED'] #Second Variable that we are trying to predict\n",
    "y2.fillna(0, inplace=True)\n",
    "\n",
    "X_data = ontime_10423.iloc[:,:-64]\n",
    "X_data.drop(['ORIGIN_AIRPORT_ID','DEP_DELAY','CANCELLED'], axis=1, inplace=True)"
   ]
  },
  {
   "cell_type": "code",
   "execution_count": 5,
   "metadata": {},
   "outputs": [],
   "source": [
    "#Finding the weather station associated with Austin Airport\n",
    "airport_weather_stations = pd.read_csv('../raw_data/airport_weather_2019.csv')\n",
    "\n",
    "def find_closest_station(input_string):  \n",
    "    \n",
    "    # Get a list of all the station names in the dataframe\n",
    "    station_names = airport_weather_stations['NAME'].tolist()\n",
    "    \n",
    "    # Find the closest match to the input string in the list of station names using regex\n",
    "    pattern = re.compile('.*' + input_string + '.*', flags=re.IGNORECASE)\n",
    "    closest_matches = [name for name in station_names if re.match(pattern, name)]\n",
    "    if not closest_matches:\n",
    "        return None\n",
    "    closest_match = min(closest_matches, key=len)\n",
    "    \n",
    "    # Get the row corresponding to the closest match\n",
    "    closest_row = airport_weather_stations.loc[airport_weather_stations['NAME'] == closest_match]\n",
    "    \n",
    "    # Return the value(s) in the 'STATION' column associated with the closest row\n",
    "    return closest_row['STATION'].tolist()\n"
   ]
  },
  {
   "cell_type": "code",
   "execution_count": 6,
   "metadata": {},
   "outputs": [],
   "source": [
    "weather_station_ID = find_closest_station(\"Austin\")[1]"
   ]
  },
  {
   "cell_type": "code",
   "execution_count": 7,
   "metadata": {},
   "outputs": [],
   "source": [
    "#converting DATE to YTD in Weather Data\n",
    "def convert_date_to_ytd(df_name):\n",
    "    df = globals()[df_name]  # get the DataFrame by name\n",
    "    \n",
    "    # Convert DATE column to datetime dtype if it's not already a datetime dtype\n",
    "    if not pd.api.types.is_datetime64_dtype(df['DATE']):\n",
    "        df['DATE'] = pd.to_datetime(df['DATE'], format='%Y%m%d')\n",
    "  \n",
    "    df = df.rename(columns={'DATE': 'YTD'})  # rename DATE column to YTD\n",
    "    df['YTD'] = df['YTD'].dt.dayofyear\n",
    "\n",
    "    return df"
   ]
  },
  {
   "cell_type": "code",
   "execution_count": 8,
   "metadata": {},
   "outputs": [],
   "source": [
    "def load_weather_data(weather_station):\n",
    "    \n",
    "    years = [2017, 2018, 2019, 2020, 2021, 2022]\n",
    "    \n",
    "    # Load weather data for each year and filter based on weather station ID\n",
    "    dfs = {}\n",
    "    for year in years:\n",
    "        filename = f\"../processed_data/weather{year}.csv\"\n",
    "        df = pd.read_csv(filename)\n",
    "        df = df[df['ID'] == weather_station]\n",
    "        df = convert_date_to_ytd(df)\n",
    "        # Convert DataFrame to structured numpy array and use as key in dictionary\n",
    "        key = np.array(df.to_records(index=False)).tolist()\n",
    "        dfs[key] = df\n",
    "    \n",
    "    return dfs\n"
   ]
  },
  {
   "cell_type": "code",
   "execution_count": 9,
   "metadata": {},
   "outputs": [],
   "source": [
    "#Loading Weather Data for Austin Airport \n",
    "weather2017 = pd.read_csv('../processed_data/weather2017.csv')\n",
    "weather2017 = weather2017[weather2017['ID'] == weather_station_ID]\n",
    "weather2017 = convert_date_to_ytd('weather2017')\n",
    "\n",
    "weather2018 = pd.read_csv('../processed_data/weather2018.csv')\n",
    "weather2018 = weather2018[weather2018['ID'] == weather_station_ID]\n",
    "weather2018 = convert_date_to_ytd('weather2018')\n",
    "\n",
    "weather2019 = pd.read_csv('../processed_data/weather2019.csv')\n",
    "weather2019 = weather2019[weather2019['ID'] == weather_station_ID]\n",
    "weather2019 = convert_date_to_ytd('weather2019')\n",
    "\n",
    "weather2020 = pd.read_csv('../processed_data/weather2020.csv')\n",
    "weather2020 = weather2020[weather2020['ID'] == weather_station_ID]\n",
    "weather2020 = convert_date_to_ytd('weather2020')\n",
    "\n",
    "weather2021 = pd.read_csv('../processed_data/weather2021.csv')\n",
    "weather2021 = weather2021[weather2021['ID'] == weather_station_ID]\n",
    "weather2021 = convert_date_to_ytd('weather2021')\n",
    "\n",
    "weather2022 = pd.read_csv('../processed_data/weather2022.csv')\n",
    "weather2022 = weather2022[weather2022['ID'] == weather_station_ID]\n",
    "weather2022 = convert_date_to_ytd('weather2022')\n",
    "\n",
    "weather_df = pd.concat([weather2017, weather2018, weather2019, weather2020, weather2021, weather2022])"
   ]
  },
  {
   "cell_type": "code",
   "execution_count": 10,
   "metadata": {},
   "outputs": [
    {
     "data": {
      "text/plain": [
       "-29.0"
      ]
     },
     "execution_count": 10,
     "metadata": {},
     "output_type": "execute_result"
    }
   ],
   "source": [
    "y1.min()"
   ]
  },
  {
   "cell_type": "code",
   "execution_count": 11,
   "metadata": {},
   "outputs": [
    {
     "name": "stdout",
     "output_type": "stream",
     "text": [
      "0.0\n"
     ]
    },
    {
     "data": {
      "text/plain": [
       "Text(0, 0.5, 'Frequency')"
      ]
     },
     "execution_count": 11,
     "metadata": {},
     "output_type": "execute_result"
    },
    {
     "data": {
      "image/png": "[encoded data removed]",
      "text/plain": [
       "<Figure size 432x288 with 1 Axes>"
      ]
     },
     "metadata": {
      "needs_background": "light"
     },
     "output_type": "display_data"
    }
   ],
   "source": [
    "#log transformation of y1\n",
    "y1 = y1 +29 + 1  #removing any values below 0 by offsetting\n",
    "print(np.log(y1.min())) #checking for any -inf or negative numbers\n",
    "#Applying the log transformation\n",
    "y1 = np.log(y1)\n",
    "\n",
    "plt.hist(y1, bins = 50)\n",
    "plt.title('Histogram of y1')\n",
    "plt.xlabel('Value')\n",
    "plt.ylabel('Frequency')"
   ]
  },
  {
   "cell_type": "code",
   "execution_count": 12,
   "metadata": {},
   "outputs": [],
   "source": [
    "#Average weather data for ever specific YTD and adding this to the training data\n",
    "\n",
    "#dropping the first column (ID)\n",
    "weather_df = weather_df.drop('ID', axis=1)\n",
    "\n",
    "#grouping by YTD and calculate the mean of all other columns\n",
    "weather_df = weather_df.groupby('YTD').mean().reset_index()"
   ]
  },
  {
   "cell_type": "code",
   "execution_count": 13,
   "metadata": {},
   "outputs": [
    {
     "data": {
      "text/plain": [
       "Index(['YTD', 'AWND', 'PRCP', 'SNOW', 'SNWD', 'TAVG', 'TMAX', 'TMIN', 'WDF2',\n",
       "       'WDF5', 'WSF2', 'WSF5'],\n",
       "      dtype='object')"
      ]
     },
     "execution_count": 13,
     "metadata": {},
     "output_type": "execute_result"
    }
   ],
   "source": [
    "weather_df.columns"
   ]
  },
  {
   "cell_type": "code",
   "execution_count": 14,
   "metadata": {},
   "outputs": [],
   "source": [
    "#merging X_data with weather_df\n",
    "X_data_merged = pd.merge(X_data, weather_df, on='YTD')"
   ]
  },
  {
   "cell_type": "code",
   "execution_count": 15,
   "metadata": {},
   "outputs": [
    {
     "data": {
      "text/html": [
       "<div>\n",
       "<style scoped>\n",
       "    .dataframe tbody tr th:only-of-type {\n",
       "        vertical-align: middle;\n",
       "    }\n",
       "\n",
       "    .dataframe tbody tr th {\n",
       "        vertical-align: top;\n",
       "    }\n",
       "\n",
       "    .dataframe thead th {\n",
       "        text-align: right;\n",
       "    }\n",
       "</style>\n",
       "<table border=\"1\" class=\"dataframe\">\n",
       "  <thead>\n",
       "    <tr style=\"text-align: right;\">\n",
       "      <th></th>\n",
       "      <th>YTD</th>\n",
       "      <th>OP_UNIQUE_CARRIER_9E</th>\n",
       "      <th>OP_UNIQUE_CARRIER_AA</th>\n",
       "      <th>OP_UNIQUE_CARRIER_AS</th>\n",
       "      <th>OP_UNIQUE_CARRIER_B6</th>\n",
       "      <th>OP_UNIQUE_CARRIER_DL</th>\n",
       "      <th>OP_UNIQUE_CARRIER_EV</th>\n",
       "      <th>OP_UNIQUE_CARRIER_F9</th>\n",
       "      <th>OP_UNIQUE_CARRIER_G4</th>\n",
       "      <th>OP_UNIQUE_CARRIER_HA</th>\n",
       "      <th>...</th>\n",
       "      <th>PRCP</th>\n",
       "      <th>SNOW</th>\n",
       "      <th>SNWD</th>\n",
       "      <th>TAVG</th>\n",
       "      <th>TMAX</th>\n",
       "      <th>TMIN</th>\n",
       "      <th>WDF2</th>\n",
       "      <th>WDF5</th>\n",
       "      <th>WSF2</th>\n",
       "      <th>WSF5</th>\n",
       "    </tr>\n",
       "  </thead>\n",
       "  <tbody>\n",
       "    <tr>\n",
       "      <th>0</th>\n",
       "      <td>2</td>\n",
       "      <td>1</td>\n",
       "      <td>0</td>\n",
       "      <td>0</td>\n",
       "      <td>0</td>\n",
       "      <td>0</td>\n",
       "      <td>0</td>\n",
       "      <td>0</td>\n",
       "      <td>0</td>\n",
       "      <td>0</td>\n",
       "      <td>...</td>\n",
       "      <td>112.333333</td>\n",
       "      <td>0.0</td>\n",
       "      <td>0.0</td>\n",
       "      <td>75.666667</td>\n",
       "      <td>122.166667</td>\n",
       "      <td>18.0</td>\n",
       "      <td>318.333333</td>\n",
       "      <td>303.333333</td>\n",
       "      <td>81.333333</td>\n",
       "      <td>109.5</td>\n",
       "    </tr>\n",
       "    <tr>\n",
       "      <th>1</th>\n",
       "      <td>2</td>\n",
       "      <td>0</td>\n",
       "      <td>1</td>\n",
       "      <td>0</td>\n",
       "      <td>0</td>\n",
       "      <td>0</td>\n",
       "      <td>0</td>\n",
       "      <td>0</td>\n",
       "      <td>0</td>\n",
       "      <td>0</td>\n",
       "      <td>...</td>\n",
       "      <td>112.333333</td>\n",
       "      <td>0.0</td>\n",
       "      <td>0.0</td>\n",
       "      <td>75.666667</td>\n",
       "      <td>122.166667</td>\n",
       "      <td>18.0</td>\n",
       "      <td>318.333333</td>\n",
       "      <td>303.333333</td>\n",
       "      <td>81.333333</td>\n",
       "      <td>109.5</td>\n",
       "    </tr>\n",
       "    <tr>\n",
       "      <th>2</th>\n",
       "      <td>2</td>\n",
       "      <td>1</td>\n",
       "      <td>0</td>\n",
       "      <td>0</td>\n",
       "      <td>0</td>\n",
       "      <td>0</td>\n",
       "      <td>0</td>\n",
       "      <td>0</td>\n",
       "      <td>0</td>\n",
       "      <td>0</td>\n",
       "      <td>...</td>\n",
       "      <td>112.333333</td>\n",
       "      <td>0.0</td>\n",
       "      <td>0.0</td>\n",
       "      <td>75.666667</td>\n",
       "      <td>122.166667</td>\n",
       "      <td>18.0</td>\n",
       "      <td>318.333333</td>\n",
       "      <td>303.333333</td>\n",
       "      <td>81.333333</td>\n",
       "      <td>109.5</td>\n",
       "    </tr>\n",
       "    <tr>\n",
       "      <th>3</th>\n",
       "      <td>2</td>\n",
       "      <td>1</td>\n",
       "      <td>0</td>\n",
       "      <td>0</td>\n",
       "      <td>0</td>\n",
       "      <td>0</td>\n",
       "      <td>0</td>\n",
       "      <td>0</td>\n",
       "      <td>0</td>\n",
       "      <td>0</td>\n",
       "      <td>...</td>\n",
       "      <td>112.333333</td>\n",
       "      <td>0.0</td>\n",
       "      <td>0.0</td>\n",
       "      <td>75.666667</td>\n",
       "      <td>122.166667</td>\n",
       "      <td>18.0</td>\n",
       "      <td>318.333333</td>\n",
       "      <td>303.333333</td>\n",
       "      <td>81.333333</td>\n",
       "      <td>109.5</td>\n",
       "    </tr>\n",
       "    <tr>\n",
       "      <th>4</th>\n",
       "      <td>2</td>\n",
       "      <td>0</td>\n",
       "      <td>1</td>\n",
       "      <td>0</td>\n",
       "      <td>0</td>\n",
       "      <td>0</td>\n",
       "      <td>0</td>\n",
       "      <td>0</td>\n",
       "      <td>0</td>\n",
       "      <td>0</td>\n",
       "      <td>...</td>\n",
       "      <td>112.333333</td>\n",
       "      <td>0.0</td>\n",
       "      <td>0.0</td>\n",
       "      <td>75.666667</td>\n",
       "      <td>122.166667</td>\n",
       "      <td>18.0</td>\n",
       "      <td>318.333333</td>\n",
       "      <td>303.333333</td>\n",
       "      <td>81.333333</td>\n",
       "      <td>109.5</td>\n",
       "    </tr>\n",
       "    <tr>\n",
       "      <th>...</th>\n",
       "      <td>...</td>\n",
       "      <td>...</td>\n",
       "      <td>...</td>\n",
       "      <td>...</td>\n",
       "      <td>...</td>\n",
       "      <td>...</td>\n",
       "      <td>...</td>\n",
       "      <td>...</td>\n",
       "      <td>...</td>\n",
       "      <td>...</td>\n",
       "      <td>...</td>\n",
       "      <td>...</td>\n",
       "      <td>...</td>\n",
       "      <td>...</td>\n",
       "      <td>...</td>\n",
       "      <td>...</td>\n",
       "      <td>...</td>\n",
       "      <td>...</td>\n",
       "      <td>...</td>\n",
       "      <td>...</td>\n",
       "      <td>...</td>\n",
       "    </tr>\n",
       "    <tr>\n",
       "      <th>244014</th>\n",
       "      <td>365</td>\n",
       "      <td>0</td>\n",
       "      <td>0</td>\n",
       "      <td>0</td>\n",
       "      <td>0</td>\n",
       "      <td>0</td>\n",
       "      <td>0</td>\n",
       "      <td>0</td>\n",
       "      <td>0</td>\n",
       "      <td>0</td>\n",
       "      <td>...</td>\n",
       "      <td>1.600000</td>\n",
       "      <td>0.0</td>\n",
       "      <td>0.0</td>\n",
       "      <td>109.000000</td>\n",
       "      <td>186.600000</td>\n",
       "      <td>31.4</td>\n",
       "      <td>210.000000</td>\n",
       "      <td>210.000000</td>\n",
       "      <td>85.000000</td>\n",
       "      <td>111.2</td>\n",
       "    </tr>\n",
       "    <tr>\n",
       "      <th>244015</th>\n",
       "      <td>365</td>\n",
       "      <td>0</td>\n",
       "      <td>0</td>\n",
       "      <td>0</td>\n",
       "      <td>0</td>\n",
       "      <td>0</td>\n",
       "      <td>0</td>\n",
       "      <td>0</td>\n",
       "      <td>0</td>\n",
       "      <td>0</td>\n",
       "      <td>...</td>\n",
       "      <td>1.600000</td>\n",
       "      <td>0.0</td>\n",
       "      <td>0.0</td>\n",
       "      <td>109.000000</td>\n",
       "      <td>186.600000</td>\n",
       "      <td>31.4</td>\n",
       "      <td>210.000000</td>\n",
       "      <td>210.000000</td>\n",
       "      <td>85.000000</td>\n",
       "      <td>111.2</td>\n",
       "    </tr>\n",
       "    <tr>\n",
       "      <th>244016</th>\n",
       "      <td>365</td>\n",
       "      <td>0</td>\n",
       "      <td>0</td>\n",
       "      <td>0</td>\n",
       "      <td>0</td>\n",
       "      <td>0</td>\n",
       "      <td>0</td>\n",
       "      <td>0</td>\n",
       "      <td>0</td>\n",
       "      <td>0</td>\n",
       "      <td>...</td>\n",
       "      <td>1.600000</td>\n",
       "      <td>0.0</td>\n",
       "      <td>0.0</td>\n",
       "      <td>109.000000</td>\n",
       "      <td>186.600000</td>\n",
       "      <td>31.4</td>\n",
       "      <td>210.000000</td>\n",
       "      <td>210.000000</td>\n",
       "      <td>85.000000</td>\n",
       "      <td>111.2</td>\n",
       "    </tr>\n",
       "    <tr>\n",
       "      <th>244017</th>\n",
       "      <td>365</td>\n",
       "      <td>0</td>\n",
       "      <td>0</td>\n",
       "      <td>0</td>\n",
       "      <td>0</td>\n",
       "      <td>0</td>\n",
       "      <td>0</td>\n",
       "      <td>0</td>\n",
       "      <td>0</td>\n",
       "      <td>0</td>\n",
       "      <td>...</td>\n",
       "      <td>1.600000</td>\n",
       "      <td>0.0</td>\n",
       "      <td>0.0</td>\n",
       "      <td>109.000000</td>\n",
       "      <td>186.600000</td>\n",
       "      <td>31.4</td>\n",
       "      <td>210.000000</td>\n",
       "      <td>210.000000</td>\n",
       "      <td>85.000000</td>\n",
       "      <td>111.2</td>\n",
       "    </tr>\n",
       "    <tr>\n",
       "      <th>244018</th>\n",
       "      <td>365</td>\n",
       "      <td>0</td>\n",
       "      <td>0</td>\n",
       "      <td>0</td>\n",
       "      <td>0</td>\n",
       "      <td>0</td>\n",
       "      <td>0</td>\n",
       "      <td>0</td>\n",
       "      <td>0</td>\n",
       "      <td>0</td>\n",
       "      <td>...</td>\n",
       "      <td>1.600000</td>\n",
       "      <td>0.0</td>\n",
       "      <td>0.0</td>\n",
       "      <td>109.000000</td>\n",
       "      <td>186.600000</td>\n",
       "      <td>31.4</td>\n",
       "      <td>210.000000</td>\n",
       "      <td>210.000000</td>\n",
       "      <td>85.000000</td>\n",
       "      <td>111.2</td>\n",
       "    </tr>\n",
       "  </tbody>\n",
       "</table>\n",
       "<p>244019 rows × 54 columns</p>\n",
       "</div>"
      ],
      "text/plain": [
       "        YTD  OP_UNIQUE_CARRIER_9E  OP_UNIQUE_CARRIER_AA  OP_UNIQUE_CARRIER_AS  \\\n",
       "0         2                     1                     0                     0   \n",
       "1         2                     0                     1                     0   \n",
       "2         2                     1                     0                     0   \n",
       "3         2                     1                     0                     0   \n",
       "4         2                     0                     1                     0   \n",
       "...     ...                   ...                   ...                   ...   \n",
       "244014  365                     0                     0                     0   \n",
       "244015  365                     0                     0                     0   \n",
       "244016  365                     0                     0                     0   \n",
       "244017  365                     0                     0                     0   \n",
       "244018  365                     0                     0                     0   \n",
       "\n",
       "        OP_UNIQUE_CARRIER_B6  OP_UNIQUE_CARRIER_DL  OP_UNIQUE_CARRIER_EV  \\\n",
       "0                          0                     0                     0   \n",
       "1                          0                     0                     0   \n",
       "2                          0                     0                     0   \n",
       "3                          0                     0                     0   \n",
       "4                          0                     0                     0   \n",
       "...                      ...                   ...                   ...   \n",
       "244014                     0                     0                     0   \n",
       "244015                     0                     0                     0   \n",
       "244016                     0                     0                     0   \n",
       "244017                     0                     0                     0   \n",
       "244018                     0                     0                     0   \n",
       "\n",
       "        OP_UNIQUE_CARRIER_F9  OP_UNIQUE_CARRIER_G4  OP_UNIQUE_CARRIER_HA  ...  \\\n",
       "0                          0                     0                     0  ...   \n",
       "1                          0                     0                     0  ...   \n",
       "2                          0                     0                     0  ...   \n",
       "3                          0                     0                     0  ...   \n",
       "4                          0                     0                     0  ...   \n",
       "...                      ...                   ...                   ...  ...   \n",
       "244014                     0                     0                     0  ...   \n",
       "244015                     0                     0                     0  ...   \n",
       "244016                     0                     0                     0  ...   \n",
       "244017                     0                     0                     0  ...   \n",
       "244018                     0                     0                     0  ...   \n",
       "\n",
       "              PRCP  SNOW  SNWD        TAVG        TMAX  TMIN        WDF2  \\\n",
       "0       112.333333   0.0   0.0   75.666667  122.166667  18.0  318.333333   \n",
       "1       112.333333   0.0   0.0   75.666667  122.166667  18.0  318.333333   \n",
       "2       112.333333   0.0   0.0   75.666667  122.166667  18.0  318.333333   \n",
       "3       112.333333   0.0   0.0   75.666667  122.166667  18.0  318.333333   \n",
       "4       112.333333   0.0   0.0   75.666667  122.166667  18.0  318.333333   \n",
       "...            ...   ...   ...         ...         ...   ...         ...   \n",
       "244014    1.600000   0.0   0.0  109.000000  186.600000  31.4  210.000000   \n",
       "244015    1.600000   0.0   0.0  109.000000  186.600000  31.4  210.000000   \n",
       "244016    1.600000   0.0   0.0  109.000000  186.600000  31.4  210.000000   \n",
       "244017    1.600000   0.0   0.0  109.000000  186.600000  31.4  210.000000   \n",
       "244018    1.600000   0.0   0.0  109.000000  186.600000  31.4  210.000000   \n",
       "\n",
       "              WDF5       WSF2   WSF5  \n",
       "0       303.333333  81.333333  109.5  \n",
       "1       303.333333  81.333333  109.5  \n",
       "2       303.333333  81.333333  109.5  \n",
       "3       303.333333  81.333333  109.5  \n",
       "4       303.333333  81.333333  109.5  \n",
       "...            ...        ...    ...  \n",
       "244014  210.000000  85.000000  111.2  \n",
       "244015  210.000000  85.000000  111.2  \n",
       "244016  210.000000  85.000000  111.2  \n",
       "244017  210.000000  85.000000  111.2  \n",
       "244018  210.000000  85.000000  111.2  \n",
       "\n",
       "[244019 rows x 54 columns]"
      ]
     },
     "execution_count": 15,
     "metadata": {},
     "output_type": "execute_result"
    }
   ],
   "source": [
    "X_data_merged"
   ]
  },
  {
   "cell_type": "code",
   "execution_count": 16,
   "metadata": {},
   "outputs": [],
   "source": [
    "#Scaling numerical features \n",
    "def ytd_scaler(df):\n",
    "    numerical_cols = ['YTD','AWND', 'PRCP', 'SNOW', 'SNWD', 'TAVG', 'TMAX', 'TMIN', 'WDF2',\n",
    "       'WDF5', 'WSF2', 'WSF5'] #Last 12 columns\n",
    "    scaler = MinMaxScaler()\n",
    "    dfnum = scaler.fit_transform(df[numerical_cols])\n",
    "    return dfnum"
   ]
  },
  {
   "cell_type": "code",
   "execution_count": 17,
   "metadata": {},
   "outputs": [],
   "source": [
    "X_num = ytd_scaler(X_data_merged)"
   ]
  },
  {
   "cell_type": "code",
   "execution_count": 18,
   "metadata": {},
   "outputs": [],
   "source": [
    "X_data_merged.drop(['YTD','AWND', 'PRCP', 'SNOW', 'SNWD', 'TAVG', 'TMAX', 'TMIN', 'WDF2',\n",
    "       'WDF5', 'WSF2', 'WSF5'], axis=1, inplace=True)"
   ]
  },
  {
   "cell_type": "code",
   "execution_count": 19,
   "metadata": {},
   "outputs": [],
   "source": [
    "#Combining encoded categorical and scaled numerical features\n",
    "X = np.concatenate((X_data_merged, X_num), axis=1)"
   ]
  },
  {
   "cell_type": "code",
   "execution_count": 20,
   "metadata": {},
   "outputs": [
    {
     "name": "stdout",
     "output_type": "stream",
     "text": [
      "(54,)\n",
      "[0.         1.         0.         0.         0.         0.\n",
      " 0.         0.         0.         0.         0.         0.\n",
      " 0.         0.         0.         0.         0.         0.\n",
      " 0.         0.         0.         0.         0.         0.\n",
      " 0.         0.         0.         0.         0.         0.\n",
      " 0.         0.         0.         0.         0.         0.\n",
      " 0.         0.         0.         0.         0.         0.\n",
      " 0.00274725 0.57982456 0.29608153 0.         0.         0.02583799\n",
      " 0.         0.12813909 1.         1.         0.37973485 0.32178218]\n"
     ]
    }
   ],
   "source": [
    "#Checking what the input data looks like\n",
    "print((X[1]).shape)\n",
    "print(X[1])\n",
    "\n",
    "# Last 12 columns\n",
    "# ['YTD','AWND', 'PRCP', 'SNOW', 'SNWD', 'TAVG', 'TMAX', 'TMIN', 'WDF2', 'WDF5', 'WSF2', 'WSF5'] "
   ]
  },
  {
   "attachments": {},
   "cell_type": "markdown",
   "metadata": {},
   "source": [
    "### Delay Model"
   ]
  },
  {
   "cell_type": "code",
   "execution_count": 21,
   "metadata": {},
   "outputs": [],
   "source": [
    "# Split data into training and testing sets\n",
    "X_train, X_test, y_train, y_test = train_test_split(X, y1, test_size=0.2, random_state=42)"
   ]
  },
  {
   "cell_type": "code",
   "execution_count": 22,
   "metadata": {},
   "outputs": [
    {
     "name": "stdout",
     "output_type": "stream",
     "text": [
      "Model: \"sequential\"\n",
      "_________________________________________________________________\n",
      "Layer (type)                 Output Shape              Param #   \n",
      "=================================================================\n",
      "dense (Dense)                (None, 128)               7040      \n",
      "_________________________________________________________________\n",
      "dense_1 (Dense)              (None, 256)               33024     \n",
      "_________________________________________________________________\n",
      "dropout (Dropout)            (None, 256)               0         \n",
      "_________________________________________________________________\n",
      "dense_2 (Dense)              (None, 256)               65792     \n",
      "_________________________________________________________________\n",
      "dropout_1 (Dropout)          (None, 256)               0         \n",
      "_________________________________________________________________\n",
      "dense_3 (Dense)              (None, 256)               65792     \n",
      "_________________________________________________________________\n",
      "dense_4 (Dense)              (None, 1)                 257       \n",
      "=================================================================\n",
      "Total params: 171,905\n",
      "Trainable params: 171,905\n",
      "Non-trainable params: 0\n",
      "_________________________________________________________________\n"
     ]
    }
   ],
   "source": [
    "#Defining the model\n",
    "with tf.device('/device:GPU:0'):\n",
    "    modely1 = keras.Sequential()\n",
    "\n",
    "    modely1.add(Dense(128,kernel_initializer='LecunNormal', input_dim=54, activation='relu'))\n",
    "\n",
    "    modely1.add(Dense(256, kernel_initializer='LecunNormal',activation='relu'))\n",
    "\n",
    "    modely1.add(Dropout(0.25)) \n",
    "\n",
    "    modely1.add(Dense(256, kernel_initializer='LecunNormal',activation='relu'))\n",
    "\n",
    "    modely1.add(Dropout(0.25)) \n",
    "\n",
    "    modely1.add(Dense(256, kernel_initializer='LecunNormal',activation='relu'))\n",
    "         \n",
    "    modely1.add(Dense(1, activation='linear'))\n",
    "\n",
    "    modely1.summary()"
   ]
  },
  {
   "cell_type": "code",
   "execution_count": 23,
   "metadata": {},
   "outputs": [],
   "source": [
    "def rmse(y_true, y_pred): #defining the Root Mean Squared Error function\n",
    "    return K.sqrt(K.mean(K.square(y_pred - y_true)))"
   ]
  },
  {
   "cell_type": "code",
   "execution_count": 24,
   "metadata": {},
   "outputs": [],
   "source": [
    "# Compile model\n",
    "#model.compile(loss=CategoricalCrossentropy,optimizer='adam', metrics=['accuracy'])\n",
    "with tf.device('/device:GPU:0'):\n",
    "    modely1.compile(\n",
    "        optimizer='adam',  # using the Adam optimizer\n",
    "        loss='mean_squared_error',  # using mean squared error as the loss function\n",
    "        metrics=[rmse]  # using mean squared error as the evaluation metric\n",
    "    )"
   ]
  },
  {
   "cell_type": "code",
   "execution_count": 25,
   "metadata": {},
   "outputs": [
    {
     "name": "stdout",
     "output_type": "stream",
     "text": [
      "Epoch 1/8\n",
      "6101/6101 [==============================] - 28s 4ms/step - loss: 0.2846 - rmse: 0.5124 - val_loss: 0.2529 - val_rmse: 0.4852\n",
      "Epoch 2/8\n",
      "6101/6101 [==============================] - 28s 5ms/step - loss: 0.2510 - rmse: 0.4859 - val_loss: 0.2464 - val_rmse: 0.4800\n",
      "Epoch 3/8\n",
      "6101/6101 [==============================] - 28s 5ms/step - loss: 0.2497 - rmse: 0.4852 - val_loss: 0.2453 - val_rmse: 0.4816\n",
      "Epoch 4/8\n",
      "6101/6101 [==============================] - 28s 5ms/step - loss: 0.2486 - rmse: 0.4836 - val_loss: 0.2468 - val_rmse: 0.4839\n",
      "Epoch 5/8\n",
      "6101/6101 [==============================] - 27s 4ms/step - loss: 0.2482 - rmse: 0.4834 - val_loss: 0.2469 - val_rmse: 0.4840\n",
      "Epoch 6/8\n",
      "6101/6101 [==============================] - 27s 4ms/step - loss: 0.2478 - rmse: 0.4828 - val_loss: 0.2435 - val_rmse: 0.4784\n",
      "Epoch 7/8\n",
      "6101/6101 [==============================] - 27s 4ms/step - loss: 0.2474 - rmse: 0.4821 - val_loss: 0.2449 - val_rmse: 0.4780\n",
      "Epoch 8/8\n",
      "6101/6101 [==============================] - 28s 5ms/step - loss: 0.2470 - rmse: 0.4818 - val_loss: 0.2441 - val_rmse: 0.4774\n"
     ]
    }
   ],
   "source": [
    "# Train the model and store the history\n",
    "with tf.device('/device:GPU:0'):\n",
    "    historyy1 = modely1.fit(X_train, y_train, epochs=8, batch_size=32, validation_data=(X_test, y_test))"
   ]
  },
  {
   "cell_type": "code",
   "execution_count": 26,
   "metadata": {},
   "outputs": [
    {
     "data": {
      "text/html": [
       "<div>\n",
       "<style scoped>\n",
       "    .dataframe tbody tr th:only-of-type {\n",
       "        vertical-align: middle;\n",
       "    }\n",
       "\n",
       "    .dataframe tbody tr th {\n",
       "        vertical-align: top;\n",
       "    }\n",
       "\n",
       "    .dataframe thead th {\n",
       "        text-align: right;\n",
       "    }\n",
       "</style>\n",
       "<table border=\"1\" class=\"dataframe\">\n",
       "  <thead>\n",
       "    <tr style=\"text-align: right;\">\n",
       "      <th></th>\n",
       "      <th>loss</th>\n",
       "      <th>rmse</th>\n",
       "      <th>val_loss</th>\n",
       "      <th>val_rmse</th>\n",
       "    </tr>\n",
       "  </thead>\n",
       "  <tbody>\n",
       "    <tr>\n",
       "      <th>0</th>\n",
       "      <td>0.284584</td>\n",
       "      <td>0.512385</td>\n",
       "      <td>0.252907</td>\n",
       "      <td>0.485225</td>\n",
       "    </tr>\n",
       "    <tr>\n",
       "      <th>1</th>\n",
       "      <td>0.251008</td>\n",
       "      <td>0.485862</td>\n",
       "      <td>0.246442</td>\n",
       "      <td>0.479968</td>\n",
       "    </tr>\n",
       "    <tr>\n",
       "      <th>2</th>\n",
       "      <td>0.249706</td>\n",
       "      <td>0.485242</td>\n",
       "      <td>0.245309</td>\n",
       "      <td>0.481615</td>\n",
       "    </tr>\n",
       "  </tbody>\n",
       "</table>\n",
       "</div>"
      ],
      "text/plain": [
       "       loss      rmse  val_loss  val_rmse\n",
       "0  0.284584  0.512385  0.252907  0.485225\n",
       "1  0.251008  0.485862  0.246442  0.479968\n",
       "2  0.249706  0.485242  0.245309  0.481615"
      ]
     },
     "execution_count": 26,
     "metadata": {},
     "output_type": "execute_result"
    }
   ],
   "source": [
    "#manually checking the loss values\n",
    "dfy1 = pd.DataFrame(historyy1.history)\n",
    "dfy1.head(3)"
   ]
  },
  {
   "cell_type": "code",
   "execution_count": 31,
   "metadata": {},
   "outputs": [
    {
     "data": {
      "image/png": "[encoded data removed]",
      "text/plain": [
       "<Figure size 432x288 with 1 Axes>"
      ]
     },
     "metadata": {
      "needs_background": "light"
     },
     "output_type": "display_data"
    }
   ],
   "source": [
    "#plotting the training and validation loss over the epochs\n",
    "plt.plot(historyy1.history['val_rmse'])\n",
    "plt.plot(historyy1.history['rmse'])\n",
    "plt.title('Model Log Loss')\n",
    "plt.xlabel('Epoch')\n",
    "plt.ylabel('Log Loss')\n",
    "plt.legend(['train', 'val'], loc='upper right')\n",
    "plt.show()"
   ]
  },
  {
   "cell_type": "code",
   "execution_count": 32,
   "metadata": {},
   "outputs": [
    {
     "data": {
      "text/html": [
       "<div>\n",
       "<style scoped>\n",
       "    .dataframe tbody tr th:only-of-type {\n",
       "        vertical-align: middle;\n",
       "    }\n",
       "\n",
       "    .dataframe tbody tr th {\n",
       "        vertical-align: top;\n",
       "    }\n",
       "\n",
       "    .dataframe thead th {\n",
       "        text-align: right;\n",
       "    }\n",
       "</style>\n",
       "<table border=\"1\" class=\"dataframe\">\n",
       "  <thead>\n",
       "    <tr style=\"text-align: right;\">\n",
       "      <th></th>\n",
       "      <th>loss</th>\n",
       "      <th>rmse</th>\n",
       "      <th>val_loss</th>\n",
       "      <th>val_rmse</th>\n",
       "    </tr>\n",
       "  </thead>\n",
       "  <tbody>\n",
       "    <tr>\n",
       "      <th>0</th>\n",
       "      <td>1.329208</td>\n",
       "      <td>1.669268</td>\n",
       "      <td>1.287764</td>\n",
       "      <td>1.624540</td>\n",
       "    </tr>\n",
       "    <tr>\n",
       "      <th>1</th>\n",
       "      <td>1.285321</td>\n",
       "      <td>1.625576</td>\n",
       "      <td>1.279465</td>\n",
       "      <td>1.616023</td>\n",
       "    </tr>\n",
       "    <tr>\n",
       "      <th>2</th>\n",
       "      <td>1.283648</td>\n",
       "      <td>1.624567</td>\n",
       "      <td>1.278016</td>\n",
       "      <td>1.618686</td>\n",
       "    </tr>\n",
       "  </tbody>\n",
       "</table>\n",
       "</div>"
      ],
      "text/plain": [
       "       loss      rmse  val_loss  val_rmse\n",
       "0  1.329208  1.669268  1.287764  1.624540\n",
       "1  1.285321  1.625576  1.279465  1.616023\n",
       "2  1.283648  1.624567  1.278016  1.618686"
      ]
     },
     "execution_count": 32,
     "metadata": {},
     "output_type": "execute_result"
    }
   ],
   "source": [
    "#exponentiating the loss values back to minutes\n",
    "dfy1 = pd.DataFrame(historyy1.history)\n",
    "dfy1 = dfy1.applymap(lambda x: np.exp(x))\n",
    "dfy1.head(3)"
   ]
  },
  {
   "cell_type": "code",
   "execution_count": 33,
   "metadata": {},
   "outputs": [
    {
     "data": {
      "image/png": "[encoded data removed]",
      "text/plain": [
       "<Figure size 432x288 with 1 Axes>"
      ]
     },
     "metadata": {
      "needs_background": "light"
     },
     "output_type": "display_data"
    }
   ],
   "source": [
    "plt.plot(dfy1['val_rmse'])\n",
    "plt.plot(dfy1['rmse'])\n",
    "plt.title('Model Loss')\n",
    "plt.xlabel('Epoch')\n",
    "plt.ylabel('Loss')\n",
    "plt.legend(['train', 'val'], loc='upper right')\n",
    "plt.show()"
   ]
  },
  {
   "attachments": {},
   "cell_type": "markdown",
   "metadata": {},
   "source": [
    "ADD WEATHER API HERE"
   ]
  },
  {
   "cell_type": "code",
   "execution_count": 34,
   "metadata": {},
   "outputs": [],
   "source": [
    "def get_pred_delay(row_number):\n",
    "    new_data = X[row_number].reshape(-1,54)  #sample input\n",
    "    #type(X[1]) is an numpy.ndarray\n",
    "\n",
    "    # Make prediction with the model\n",
    "    raw_prediction = modely1.predict(new_data)\n",
    "    #print(raw_prediction)\n",
    "\n",
    "    ylabels= ontime_10423['DEP_DELAY']\n",
    "    correct_label = ylabels[row_number]\n",
    "\n",
    "    tranformed_prediction = np.exp(raw_prediction) -30\n",
    "    return tranformed_prediction, correct_label"
   ]
  },
  {
   "cell_type": "code",
   "execution_count": 72,
   "metadata": {},
   "outputs": [
    {
     "name": "stdout",
     "output_type": "stream",
     "text": [
      "[[5.7115364]]\n",
      "6.0\n"
     ]
    }
   ],
   "source": [
    "r = 753 #row number - example of an input data\n",
    "print(get_pred_delay(r)[0])\n",
    "print(get_pred_delay(r)[1])"
   ]
  },
  {
   "attachments": {},
   "cell_type": "markdown",
   "metadata": {},
   "source": [
    "### Cancellation Model"
   ]
  },
  {
   "cell_type": "code",
   "execution_count": 81,
   "metadata": {},
   "outputs": [],
   "source": [
    "# Split data into training and testing sets\n",
    "X_train, X_test, y_train, y_test = train_test_split(X, y2, test_size=0.2, random_state=42)"
   ]
  },
  {
   "cell_type": "code",
   "execution_count": 82,
   "metadata": {},
   "outputs": [
    {
     "name": "stdout",
     "output_type": "stream",
     "text": [
      "Model: \"sequential_3\"\n",
      "_________________________________________________________________\n",
      "Layer (type)                 Output Shape              Param #   \n",
      "=================================================================\n",
      "dense_15 (Dense)             (None, 128)               7040      \n",
      "_________________________________________________________________\n",
      "dense_16 (Dense)             (None, 256)               33024     \n",
      "_________________________________________________________________\n",
      "dropout_6 (Dropout)          (None, 256)               0         \n",
      "_________________________________________________________________\n",
      "dense_17 (Dense)             (None, 256)               65792     \n",
      "_________________________________________________________________\n",
      "dropout_7 (Dropout)          (None, 256)               0         \n",
      "_________________________________________________________________\n",
      "dense_18 (Dense)             (None, 256)               65792     \n",
      "_________________________________________________________________\n",
      "dense_19 (Dense)             (None, 1)                 257       \n",
      "=================================================================\n",
      "Total params: 171,905\n",
      "Trainable params: 171,905\n",
      "Non-trainable params: 0\n",
      "_________________________________________________________________\n"
     ]
    }
   ],
   "source": [
    "#Defining the model\n",
    "with tf.device('/device:GPU:0'):\n",
    "    modely2 = keras.Sequential()\n",
    "\n",
    "    modely2.add(Dense(128,kernel_initializer='LecunNormal', input_dim=54, activation='relu'))\n",
    "\n",
    "    modely2.add(Dense(256, kernel_initializer='LecunNormal',activation='relu'))\n",
    "\n",
    "    modely2.add(Dropout(0.25)) \n",
    "\n",
    "    modely2.add(Dense(256, kernel_initializer='LecunNormal',activation='relu'))\n",
    "\n",
    "    modely2.add(Dropout(0.25)) \n",
    "\n",
    "    modely2.add(Dense(256, kernel_initializer='LecunNormal',activation='relu'))\n",
    "         \n",
    "    modely2.add(Dense(1, activation='linear'))\n",
    "\n",
    "    modely2.summary()"
   ]
  },
  {
   "cell_type": "code",
   "execution_count": 83,
   "metadata": {},
   "outputs": [],
   "source": [
    "def rmse(y_true, y_pred): #defining the Root Mean Squared Error function\n",
    "    return K.sqrt(K.mean(K.square(y_pred - y_true)))"
   ]
  },
  {
   "cell_type": "code",
   "execution_count": 84,
   "metadata": {},
   "outputs": [],
   "source": [
    "# Compile model\n",
    "#model.compile(loss=CategoricalCrossentropy,optimizer='adam', metrics=['accuracy'])\n",
    "with tf.device('/device:GPU:0'):\n",
    "    modely2.compile(\n",
    "        optimizer='adam',  # using the Adam optimizer\n",
    "        loss='mean_squared_error',  # using mean squared error as the loss function\n",
    "        metrics=[rmse]  # using mean squared error as the evaluation metric\n",
    "    )"
   ]
  },
  {
   "cell_type": "code",
   "execution_count": 85,
   "metadata": {},
   "outputs": [
    {
     "name": "stdout",
     "output_type": "stream",
     "text": [
      "Epoch 1/8\n",
      "6101/6101 [==============================] - 29s 5ms/step - loss: 0.0194 - rmse: 0.1053 - val_loss: 0.0199 - val_rmse: 0.1049\n",
      "Epoch 2/8\n",
      "6101/6101 [==============================] - 29s 5ms/step - loss: 0.0188 - rmse: 0.1032 - val_loss: 0.0196 - val_rmse: 0.1057\n",
      "Epoch 3/8\n",
      "6101/6101 [==============================] - 30s 5ms/step - loss: 0.0187 - rmse: 0.1030 - val_loss: 0.0195 - val_rmse: 0.1040\n",
      "Epoch 4/8\n",
      "6101/6101 [==============================] - 30s 5ms/step - loss: 0.0186 - rmse: 0.1026 - val_loss: 0.0195 - val_rmse: 0.1074\n",
      "Epoch 5/8\n",
      "6101/6101 [==============================] - 30s 5ms/step - loss: 0.0185 - rmse: 0.1014 - val_loss: 0.0194 - val_rmse: 0.1031\n",
      "Epoch 6/8\n",
      "6101/6101 [==============================] - 30s 5ms/step - loss: 0.0185 - rmse: 0.1020 - val_loss: 0.0194 - val_rmse: 0.1027\n",
      "Epoch 7/8\n",
      "6101/6101 [==============================] - 31s 5ms/step - loss: 0.0185 - rmse: 0.1020 - val_loss: 0.0195 - val_rmse: 0.1070\n",
      "Epoch 8/8\n",
      "6101/6101 [==============================] - 31s 5ms/step - loss: 0.0185 - rmse: 0.1019 - val_loss: 0.0194 - val_rmse: 0.1050\n"
     ]
    }
   ],
   "source": [
    "# Train the model and store the history\n",
    "with tf.device('/device:GPU:0'):\n",
    "    historyy2 = modely2.fit(X_train, y_train, epochs=8, batch_size=32, validation_data=(X_test, y_test))"
   ]
  },
  {
   "cell_type": "code",
   "execution_count": 86,
   "metadata": {},
   "outputs": [
    {
     "data": {
      "text/html": [
       "<div>\n",
       "<style scoped>\n",
       "    .dataframe tbody tr th:only-of-type {\n",
       "        vertical-align: middle;\n",
       "    }\n",
       "\n",
       "    .dataframe tbody tr th {\n",
       "        vertical-align: top;\n",
       "    }\n",
       "\n",
       "    .dataframe thead th {\n",
       "        text-align: right;\n",
       "    }\n",
       "</style>\n",
       "<table border=\"1\" class=\"dataframe\">\n",
       "  <thead>\n",
       "    <tr style=\"text-align: right;\">\n",
       "      <th></th>\n",
       "      <th>loss</th>\n",
       "      <th>rmse</th>\n",
       "      <th>val_loss</th>\n",
       "      <th>val_rmse</th>\n",
       "    </tr>\n",
       "  </thead>\n",
       "  <tbody>\n",
       "    <tr>\n",
       "      <th>0</th>\n",
       "      <td>0.019393</td>\n",
       "      <td>0.105295</td>\n",
       "      <td>0.019873</td>\n",
       "      <td>0.104895</td>\n",
       "    </tr>\n",
       "    <tr>\n",
       "      <th>1</th>\n",
       "      <td>0.018842</td>\n",
       "      <td>0.103170</td>\n",
       "      <td>0.019629</td>\n",
       "      <td>0.105664</td>\n",
       "    </tr>\n",
       "    <tr>\n",
       "      <th>2</th>\n",
       "      <td>0.018689</td>\n",
       "      <td>0.102994</td>\n",
       "      <td>0.019453</td>\n",
       "      <td>0.103987</td>\n",
       "    </tr>\n",
       "  </tbody>\n",
       "</table>\n",
       "</div>"
      ],
      "text/plain": [
       "       loss      rmse  val_loss  val_rmse\n",
       "0  0.019393  0.105295  0.019873  0.104895\n",
       "1  0.018842  0.103170  0.019629  0.105664\n",
       "2  0.018689  0.102994  0.019453  0.103987"
      ]
     },
     "execution_count": 86,
     "metadata": {},
     "output_type": "execute_result"
    }
   ],
   "source": [
    "#manually checking the loss values\n",
    "dfy2 = pd.DataFrame(historyy2.history)\n",
    "dfy2.head(3)"
   ]
  },
  {
   "cell_type": "code",
   "execution_count": 87,
   "metadata": {},
   "outputs": [
    {
     "data": {
      "image/png": "[encoded data removed]",
      "text/plain": [
       "<Figure size 432x288 with 1 Axes>"
      ]
     },
     "metadata": {
      "needs_background": "light"
     },
     "output_type": "display_data"
    }
   ],
   "source": [
    "#plotting the training and validation loss over the epochs\n",
    "plt.plot(historyy2.history['val_rmse'])\n",
    "plt.plot(historyy2.history['rmse'])\n",
    "plt.title('ModelLoss - RMSE')\n",
    "plt.xlabel('Epoch')\n",
    "plt.ylabel('Loss')\n",
    "plt.legend(['train', 'val'], loc='upper right')\n",
    "plt.show()"
   ]
  },
  {
   "attachments": {},
   "cell_type": "markdown",
   "metadata": {},
   "source": [
    "ADD WEATHER API HERE!"
   ]
  },
  {
   "cell_type": "code",
   "execution_count": 88,
   "metadata": {},
   "outputs": [],
   "source": [
    "def get_pred_cancel(row_number):\n",
    "    new_data = X[row_number].reshape(-1,54)  #sample input\n",
    "    #type(X[1]) is an numpy.ndarray\n",
    "\n",
    "    # Make prediction with the model\n",
    "    raw_prediction = modely2.predict(new_data)\n",
    "    #print(raw_prediction)\n",
    "\n",
    "    ylabels= ontime_10423['CANCELLED']\n",
    "    correct_label = ylabels[row_number]\n",
    "    \n",
    "    return raw_prediction, correct_label"
   ]
  },
  {
   "cell_type": "code",
   "execution_count": 89,
   "metadata": {},
   "outputs": [
    {
     "name": "stdout",
     "output_type": "stream",
     "text": [
      "[[0.01769858]]\n",
      "0.0\n"
     ]
    }
   ],
   "source": [
    "r = 42345 #row number - example of an input data\n",
    "print(get_pred_cancel(r)[0])\n",
    "print(get_pred_cancel(r)[1])"
   ]
  },
  {
   "cell_type": "code",
   "execution_count": 92,
   "metadata": {},
   "outputs": [
    {
     "name": "stdout",
     "output_type": "stream",
     "text": [
      "[[0.01769858]]\n"
     ]
    }
   ],
   "source": [
    "print(modely2.predict((X[53].reshape(1,54))))"
   ]
  },
  {
   "cell_type": "code",
   "execution_count": 91,
   "metadata": {},
   "outputs": [
    {
     "data": {
      "image/png": "[encoded data removed]",
      "text/plain": [
       "<Figure size 432x288 with 1 Axes>"
      ]
     },
     "metadata": {
      "needs_background": "light"
     },
     "output_type": "display_data"
    }
   ],
   "source": [
    "#Checking cancellation frequency\n",
    "\n",
    "#defining the range of values for r\n",
    "r_values = range(0, 1001)\n",
    "\n",
    "#creating a sample list of y_values \n",
    "y_values = [get_pred_cancel(r)[1].reshape(1,) for r in r_values]\n",
    "\n",
    "#plotting\n",
    "plt.plot(r_values, y_values)\n",
    "plt.xlabel('Sample Input')\n",
    "plt.ylabel('get_pred_cancel(r)[0]')\n",
    "plt.title('Predicted Cancellation from r=0 to r=1000')\n",
    "plt.show()"
   ]
  },
  {
   "attachments": {},
   "cell_type": "markdown",
   "metadata": {},
   "source": [
    "Lookup: \n",
    "* Try changing: XgBoost, Linear Regression\n",
    "* Be able to explain to explain the tools I used vs. the ones I didn't use\n",
    "\n",
    "Eg: I started with Linear Regression, it worked well\n",
    "Then I tried XGboost, a bit better\n",
    "Then I tried Neural Networks"
   ]
  },
  {
   "cell_type": "code",
   "execution_count": null,
   "metadata": {},
   "outputs": [],
   "source": [
    "https://www.tensorflow.org/guide/keras/save_and_serialize"
   ]
  }
 ],
 "metadata": {
  "kernelspec": {
   "display_name": "python3.6",
   "language": "python",
   "name": "python3"
  },
  "language_info": {
   "codemirror_mode": {
    "name": "ipython",
    "version": 3
   },
   "file_extension": ".py",
   "mimetype": "text/x-python",
   "name": "python",
   "nbconvert_exporter": "python",
   "pygments_lexer": "ipython3",
   "version": "3.6.13"
  },
  "orig_nbformat": 4
 },
 "nbformat": 4,
 "nbformat_minor": 2
}
