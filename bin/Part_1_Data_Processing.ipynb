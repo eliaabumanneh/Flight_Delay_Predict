{
 "cells": [
  {
   "attachments": {},
   "cell_type": "markdown",
   "metadata": {},
   "source": [
    "<center>\n",
    "\n",
    "# Flight Delay Predict\n",
    "\n",
    "#### Data Science Bootcamp Capstone Project\n",
    "#### Elia Abu-Manneh\n",
    "##### April 11 2023\n",
    "\n",
    "</center>\n"
   ]
  },
  {
   "attachments": {},
   "cell_type": "markdown",
   "metadata": {},
   "source": [
    "Project Description: \n",
    "A tool that allows users to get a prediction on the likelihood of their flight being delay or cancelled using historical data and forecasted data. "
   ]
  },
  {
   "attachments": {},
   "cell_type": "markdown",
   "metadata": {},
   "source": [
    "#### Data Sources\n",
    "* [Buereau of Transportation Statistics - Airline On-Time Performance Data](https://www.transtats.bts.gov/Tables.asp?QO_VQ=EFD&QO_anzr=Nv4yv0r%FDb0-gvzr%FDcr4s14zn0pr%FDQn6n&QO_fu146_anzr=b0-gvzr) \n",
    "* [Kaggle - 2019 Airline Delays w/Weather and Airport Detail by Jen Wadkins -  Raw Data](https://www.kaggle.com/datasets/threnjen/2019-airline-delays-and-cancellations)\n",
    "\n",
    "* [NOAA National Centers for Environmental Information - Global Historical Climatology Network daily (GHCNd) ](https://noaa-ghcn-pds.s3.amazonaws.com/index.html#csv/by_year/)\n",
    "\n",
    "#### Languages Used:\n",
    "* Python\n",
    "* SQL\n",
    "\n",
    "#### Softwares Used:\n",
    "* Visual Code Studio\n",
    "* Google Chrome\n",
    "* GitHub Desktop\n",
    "* GitHub\n",
    "* CUDNN\n",
    "\n",
    "\n",
    "#### Packages Used:\n",
    "* Pandas\n",
    "* Numpy\n",
    "* SQlite\n",
    "\n"
   ]
  },
  {
   "attachments": {},
   "cell_type": "markdown",
   "metadata": {},
   "source": [
    "Legal: \n",
    "\n",
    "This project was created and is intended for educational purposes only. The creator(s) nor any user(s) nor distributor(s) claim legal responsibility for any information, data, claim or prediction infered or supplied by this program whether implicitly or explicitly. The program is not to be sold or resold. The information provided by the program is not to be sold or resold. The project may be used by others for educational and non-commerical purposes. "
   ]
  },
  {
   "attachments": {},
   "cell_type": "markdown",
   "metadata": {},
   "source": [
    "## Part 1: Data Exploration and Organisation\n"
   ]
  },
  {
   "attachments": {},
   "cell_type": "markdown",
   "metadata": {},
   "source": [
    "[List of imported CSVs with Column Descriptions](raw_data_documentation.txt)"
   ]
  },
  {
   "cell_type": "code",
   "execution_count": 4,
   "metadata": {},
   "outputs": [],
   "source": [
    "#imports\n",
    "import pandas as pd\n",
    "import numpy as np\n",
    "import sqlite3 \n",
    "import matplotlib.pyplot as plt\n",
    "import datetime\n",
    "import os"
   ]
  },
  {
   "cell_type": "code",
   "execution_count": 5,
   "metadata": {},
   "outputs": [
    {
     "name": "stdout",
     "output_type": "stream",
     "text": [
      "weather_2019's shape is (38675, 32)\n"
     ]
    },
    {
     "data": {
      "text/html": [
       "<div>\n",
       "<style scoped>\n",
       "    .dataframe tbody tr th:only-of-type {\n",
       "        vertical-align: middle;\n",
       "    }\n",
       "\n",
       "    .dataframe tbody tr th {\n",
       "        vertical-align: top;\n",
       "    }\n",
       "\n",
       "    .dataframe thead th {\n",
       "        text-align: right;\n",
       "    }\n",
       "</style>\n",
       "<table border=\"1\" class=\"dataframe\">\n",
       "  <thead>\n",
       "    <tr style=\"text-align: right;\">\n",
       "      <th></th>\n",
       "      <th>STATION</th>\n",
       "      <th>NAME</th>\n",
       "      <th>DATE</th>\n",
       "      <th>AWND</th>\n",
       "      <th>PGTM</th>\n",
       "      <th>PRCP</th>\n",
       "      <th>SNOW</th>\n",
       "      <th>SNWD</th>\n",
       "      <th>TAVG</th>\n",
       "      <th>TMAX</th>\n",
       "      <th>...</th>\n",
       "      <th>WT08</th>\n",
       "      <th>WT09</th>\n",
       "      <th>WESD</th>\n",
       "      <th>WT10</th>\n",
       "      <th>PSUN</th>\n",
       "      <th>TSUN</th>\n",
       "      <th>SN32</th>\n",
       "      <th>SX32</th>\n",
       "      <th>TOBS</th>\n",
       "      <th>WT11</th>\n",
       "    </tr>\n",
       "  </thead>\n",
       "  <tbody>\n",
       "    <tr>\n",
       "      <th>0</th>\n",
       "      <td>USW00013874</td>\n",
       "      <td>ATLANTA HARTSFIELD JACKSON INTERNATIONAL AIRPO...</td>\n",
       "      <td>1/1/2019</td>\n",
       "      <td>4.70</td>\n",
       "      <td>NaN</td>\n",
       "      <td>0.14</td>\n",
       "      <td>0.0</td>\n",
       "      <td>0.0</td>\n",
       "      <td>64.0</td>\n",
       "      <td>66.0</td>\n",
       "      <td>...</td>\n",
       "      <td>NaN</td>\n",
       "      <td>NaN</td>\n",
       "      <td>NaN</td>\n",
       "      <td>NaN</td>\n",
       "      <td>NaN</td>\n",
       "      <td>NaN</td>\n",
       "      <td>NaN</td>\n",
       "      <td>NaN</td>\n",
       "      <td>NaN</td>\n",
       "      <td>NaN</td>\n",
       "    </tr>\n",
       "    <tr>\n",
       "      <th>1</th>\n",
       "      <td>USW00013874</td>\n",
       "      <td>ATLANTA HARTSFIELD JACKSON INTERNATIONAL AIRPO...</td>\n",
       "      <td>1/2/2019</td>\n",
       "      <td>4.92</td>\n",
       "      <td>NaN</td>\n",
       "      <td>0.57</td>\n",
       "      <td>0.0</td>\n",
       "      <td>0.0</td>\n",
       "      <td>56.0</td>\n",
       "      <td>59.0</td>\n",
       "      <td>...</td>\n",
       "      <td>1.0</td>\n",
       "      <td>NaN</td>\n",
       "      <td>NaN</td>\n",
       "      <td>NaN</td>\n",
       "      <td>NaN</td>\n",
       "      <td>NaN</td>\n",
       "      <td>NaN</td>\n",
       "      <td>NaN</td>\n",
       "      <td>NaN</td>\n",
       "      <td>NaN</td>\n",
       "    </tr>\n",
       "  </tbody>\n",
       "</table>\n",
       "<p>2 rows × 32 columns</p>\n",
       "</div>"
      ],
      "text/plain": [
       "       STATION                                               NAME      DATE  \\\n",
       "0  USW00013874  ATLANTA HARTSFIELD JACKSON INTERNATIONAL AIRPO...  1/1/2019   \n",
       "1  USW00013874  ATLANTA HARTSFIELD JACKSON INTERNATIONAL AIRPO...  1/2/2019   \n",
       "\n",
       "   AWND  PGTM  PRCP  SNOW  SNWD  TAVG  TMAX  ...  WT08  WT09  WESD  WT10  \\\n",
       "0  4.70   NaN  0.14   0.0   0.0  64.0  66.0  ...   NaN   NaN   NaN   NaN   \n",
       "1  4.92   NaN  0.57   0.0   0.0  56.0  59.0  ...   1.0   NaN   NaN   NaN   \n",
       "\n",
       "   PSUN  TSUN  SN32  SX32  TOBS  WT11  \n",
       "0   NaN   NaN   NaN   NaN   NaN   NaN  \n",
       "1   NaN   NaN   NaN   NaN   NaN   NaN  \n",
       "\n",
       "[2 rows x 32 columns]"
      ]
     },
     "execution_count": 5,
     "metadata": {},
     "output_type": "execute_result"
    }
   ],
   "source": [
    "#Exploring Historical Weather Datasets\n",
    "weather_2019 = pd.read_csv('../raw_data/airport_weather_2019.csv') \n",
    "#Sample dataset with weather station column as \"STATION\" and airport name as \"NAME\"\n",
    "print(\"weather_2019's shape is \" + str(weather_2019.shape))\n",
    "weather_2019.head(2) #contains only US airports"
   ]
  },
  {
   "attachments": {},
   "cell_type": "markdown",
   "metadata": {},
   "source": [
    "[weather_2019 documentation can be found here](../bin/weather_2019_documentation.txt)"
   ]
  },
  {
   "cell_type": "code",
   "execution_count": 6,
   "metadata": {},
   "outputs": [
    {
     "name": "stdout",
     "output_type": "stream",
     "text": [
      "STATION     0.000000\n",
      "NAME        0.000000\n",
      "DATE        0.000000\n",
      "AWND        0.985133\n",
      "PRCP        0.067227\n",
      "SNOW       30.427925\n",
      "SNWD       31.777634\n",
      "TAVG       25.683258\n",
      "TMAX        0.051713\n",
      "TMIN        0.054299\n",
      "WDF2        0.956690\n",
      "WDF5        1.243697\n",
      "WSF2        0.956690\n",
      "WSF5        1.243697\n",
      "WT01       64.186167\n",
      "dtype: float64\n"
     ]
    }
   ],
   "source": [
    "#Columns with too few input data should not be used as input features as they will not provide enough meaning to the rows or might cause data skewness\n",
    "\n",
    "nan_percentages = (weather_2019.isna().sum() / len(weather_2019)) * 100 #Finding percentage of Nan by column in weather_2019\n",
    "\n",
    "cols_to_drop = nan_percentages[nan_percentages > 80].index #excluding columns with more than 80% Nan\n",
    "weather_2019.drop(cols_to_drop, axis=1, inplace=True)\n",
    "\n",
    "nan_percentages = (weather_2019.isna().sum() / len(weather_2019)) * 100 #Finding percentage of Nan by column in weather_2019\n",
    "\n",
    "print(nan_percentages)"
   ]
  },
  {
   "cell_type": "code",
   "execution_count": 7,
   "metadata": {},
   "outputs": [],
   "source": [
    "#It seems WT01 also has too many NaN despite being below the limit. Let's drop it aswell\n",
    "weather_2019.drop(\"WT01\", axis=1, inplace=True)"
   ]
  },
  {
   "cell_type": "code",
   "execution_count": 8,
   "metadata": {},
   "outputs": [
    {
     "name": "stdout",
     "output_type": "stream",
     "text": [
      "STATION     0.000000\n",
      "NAME        0.000000\n",
      "DATE        0.000000\n",
      "AWND        0.985133\n",
      "PRCP        0.067227\n",
      "SNOW       30.427925\n",
      "SNWD       31.777634\n",
      "TAVG       25.683258\n",
      "TMAX        0.051713\n",
      "TMIN        0.054299\n",
      "WDF2        0.956690\n",
      "WDF5        1.243697\n",
      "WSF2        0.956690\n",
      "WSF5        1.243697\n",
      "dtype: float64\n"
     ]
    }
   ],
   "source": [
    "nan_percentages = (weather_2019.isna().sum() / len(weather_2019)) * 100\n",
    "print(nan_percentages)"
   ]
  },
  {
   "cell_type": "code",
   "execution_count": 9,
   "metadata": {},
   "outputs": [
    {
     "data": {
      "text/html": [
       "<div>\n",
       "<style scoped>\n",
       "    .dataframe tbody tr th:only-of-type {\n",
       "        vertical-align: middle;\n",
       "    }\n",
       "\n",
       "    .dataframe tbody tr th {\n",
       "        vertical-align: top;\n",
       "    }\n",
       "\n",
       "    .dataframe thead th {\n",
       "        text-align: right;\n",
       "    }\n",
       "</style>\n",
       "<table border=\"1\" class=\"dataframe\">\n",
       "  <thead>\n",
       "    <tr style=\"text-align: right;\">\n",
       "      <th></th>\n",
       "      <th>STATION</th>\n",
       "      <th>NAME</th>\n",
       "      <th>DATE</th>\n",
       "      <th>AWND</th>\n",
       "      <th>PRCP</th>\n",
       "      <th>SNOW</th>\n",
       "      <th>SNWD</th>\n",
       "      <th>TAVG</th>\n",
       "      <th>TMAX</th>\n",
       "      <th>TMIN</th>\n",
       "      <th>WDF2</th>\n",
       "      <th>WDF5</th>\n",
       "      <th>WSF2</th>\n",
       "      <th>WSF5</th>\n",
       "    </tr>\n",
       "  </thead>\n",
       "  <tbody>\n",
       "    <tr>\n",
       "      <th>0</th>\n",
       "      <td>USW00013874</td>\n",
       "      <td>ATLANTA HARTSFIELD JACKSON INTERNATIONAL AIRPO...</td>\n",
       "      <td>1/1/2019</td>\n",
       "      <td>4.70</td>\n",
       "      <td>0.14</td>\n",
       "      <td>0.0</td>\n",
       "      <td>0.0</td>\n",
       "      <td>64.0</td>\n",
       "      <td>66.0</td>\n",
       "      <td>57.0</td>\n",
       "      <td>310.0</td>\n",
       "      <td>310.0</td>\n",
       "      <td>15.0</td>\n",
       "      <td>19.0</td>\n",
       "    </tr>\n",
       "    <tr>\n",
       "      <th>1</th>\n",
       "      <td>USW00013874</td>\n",
       "      <td>ATLANTA HARTSFIELD JACKSON INTERNATIONAL AIRPO...</td>\n",
       "      <td>1/2/2019</td>\n",
       "      <td>4.92</td>\n",
       "      <td>0.57</td>\n",
       "      <td>0.0</td>\n",
       "      <td>0.0</td>\n",
       "      <td>56.0</td>\n",
       "      <td>59.0</td>\n",
       "      <td>49.0</td>\n",
       "      <td>70.0</td>\n",
       "      <td>50.0</td>\n",
       "      <td>12.1</td>\n",
       "      <td>15.0</td>\n",
       "    </tr>\n",
       "    <tr>\n",
       "      <th>2</th>\n",
       "      <td>USW00013874</td>\n",
       "      <td>ATLANTA HARTSFIELD JACKSON INTERNATIONAL AIRPO...</td>\n",
       "      <td>1/3/2019</td>\n",
       "      <td>5.37</td>\n",
       "      <td>0.15</td>\n",
       "      <td>0.0</td>\n",
       "      <td>0.0</td>\n",
       "      <td>52.0</td>\n",
       "      <td>55.0</td>\n",
       "      <td>51.0</td>\n",
       "      <td>340.0</td>\n",
       "      <td>330.0</td>\n",
       "      <td>15.0</td>\n",
       "      <td>18.1</td>\n",
       "    </tr>\n",
       "  </tbody>\n",
       "</table>\n",
       "</div>"
      ],
      "text/plain": [
       "       STATION                                               NAME      DATE  \\\n",
       "0  USW00013874  ATLANTA HARTSFIELD JACKSON INTERNATIONAL AIRPO...  1/1/2019   \n",
       "1  USW00013874  ATLANTA HARTSFIELD JACKSON INTERNATIONAL AIRPO...  1/2/2019   \n",
       "2  USW00013874  ATLANTA HARTSFIELD JACKSON INTERNATIONAL AIRPO...  1/3/2019   \n",
       "\n",
       "   AWND  PRCP  SNOW  SNWD  TAVG  TMAX  TMIN   WDF2   WDF5  WSF2  WSF5  \n",
       "0  4.70  0.14   0.0   0.0  64.0  66.0  57.0  310.0  310.0  15.0  19.0  \n",
       "1  4.92  0.57   0.0   0.0  56.0  59.0  49.0   70.0   50.0  12.1  15.0  \n",
       "2  5.37  0.15   0.0   0.0  52.0  55.0  51.0  340.0  330.0  15.0  18.1  "
      ]
     },
     "execution_count": 9,
     "metadata": {},
     "output_type": "execute_result"
    }
   ],
   "source": [
    "weather_2019.head(3)"
   ]
  },
  {
   "cell_type": "code",
   "execution_count": 10,
   "metadata": {},
   "outputs": [],
   "source": [
    "#List of Airport IDs\n",
    "airport_ids = weather_2019['STATION'].unique().tolist()\n",
    "\n",
    "#List of target columns\n",
    "cols = ['ID', 'DATE', 'AWND', 'PRCP', 'SNOW', 'SNWD', 'TAVG',\n",
    "       'TMAX', 'TMIN', 'WDF2', 'WDF5', 'WSF2', 'WSF5']"
   ]
  },
  {
   "attachments": {},
   "cell_type": "markdown",
   "metadata": {},
   "source": [
    "### Obtaining the weather data for same airports for years 2017 - 2022"
   ]
  },
  {
   "cell_type": "code",
   "execution_count": 11,
   "metadata": {},
   "outputs": [
    {
     "name": "stderr",
     "output_type": "stream",
     "text": [
      "c:\\Users\\Elia\\anaconda3\\envs\\python3.6\\lib\\site-packages\\IPython\\core\\interactiveshell.py:3072: DtypeWarning: Columns (5) have mixed types.Specify dtype option on import or set low_memory=False.\n",
      "  interactivity=interactivity, compiler=compiler, result=result)\n"
     ]
    }
   ],
   "source": [
    "#Exploring Historical Weather Datasets\n",
    "df2020 = pd.read_csv('../raw_data/2020.csv')\n",
    "\n",
    "#filtering out any uncessary airports\n",
    "df2020 = df2020[df2020['ID'].isin(airport_ids)]\n",
    "\n",
    "#dropping unncessary columns\n",
    "df2020 = df2020.drop(['M_FLAG', 'Q_FLAG', 'S_FLAG', 'OBS_TIME'], axis=1)"
   ]
  },
  {
   "cell_type": "code",
   "execution_count": 12,
   "metadata": {},
   "outputs": [
    {
     "data": {
      "text/html": [
       "<div>\n",
       "<style scoped>\n",
       "    .dataframe tbody tr th:only-of-type {\n",
       "        vertical-align: middle;\n",
       "    }\n",
       "\n",
       "    .dataframe tbody tr th {\n",
       "        vertical-align: top;\n",
       "    }\n",
       "\n",
       "    .dataframe thead th {\n",
       "        text-align: right;\n",
       "    }\n",
       "</style>\n",
       "<table border=\"1\" class=\"dataframe\">\n",
       "  <thead>\n",
       "    <tr style=\"text-align: right;\">\n",
       "      <th></th>\n",
       "      <th>ID</th>\n",
       "      <th>DATE</th>\n",
       "      <th>ELEMENT</th>\n",
       "      <th>DATA_VALUE</th>\n",
       "    </tr>\n",
       "  </thead>\n",
       "  <tbody>\n",
       "    <tr>\n",
       "      <th>95070</th>\n",
       "      <td>USW00013881</td>\n",
       "      <td>20200307</td>\n",
       "      <td>RHAV</td>\n",
       "      <td>61</td>\n",
       "    </tr>\n",
       "    <tr>\n",
       "      <th>56476</th>\n",
       "      <td>USW00013880</td>\n",
       "      <td>20200209</td>\n",
       "      <td>AWND</td>\n",
       "      <td>25</td>\n",
       "    </tr>\n",
       "    <tr>\n",
       "      <th>11575</th>\n",
       "      <td>USW00012917</td>\n",
       "      <td>20200109</td>\n",
       "      <td>WSF2</td>\n",
       "      <td>107</td>\n",
       "    </tr>\n",
       "  </tbody>\n",
       "</table>\n",
       "</div>"
      ],
      "text/plain": [
       "                ID      DATE ELEMENT  DATA_VALUE\n",
       "95070  USW00013881  20200307    RHAV          61\n",
       "56476  USW00013880  20200209    AWND          25\n",
       "11575  USW00012917  20200109    WSF2         107"
      ]
     },
     "execution_count": 12,
     "metadata": {},
     "output_type": "execute_result"
    }
   ],
   "source": [
    "df2020.sample(3)"
   ]
  },
  {
   "cell_type": "code",
   "execution_count": 13,
   "metadata": {},
   "outputs": [],
   "source": [
    "#Pivoting DataFrame from Long-form to Wide-Form\n",
    "df2020 = pd.pivot_table(df2020, values='DATA_VALUE', index=['ID', 'DATE'], columns=['ELEMENT']).reset_index()"
   ]
  },
  {
   "cell_type": "code",
   "execution_count": 14,
   "metadata": {},
   "outputs": [],
   "source": [
    "#dropping any columns not in the specified list\n",
    "df2020 = df2020.drop(df2020.columns.difference(cols), axis=1)"
   ]
  },
  {
   "cell_type": "code",
   "execution_count": 15,
   "metadata": {},
   "outputs": [],
   "source": [
    "#Using a function to convert datasets from long to wide format\n",
    "\n",
    "def long_to_wide(year):\n",
    "    #read the CSV file for the given year\n",
    "    df = pd.read_csv(f'../raw_data/{year}.csv')\n",
    "\n",
    "    #filtering out any unnecessary airports\n",
    "    df = df[df['ID'].isin(airport_ids)]\n",
    "\n",
    "    #dropping unnecessary columns\n",
    "    df = df.drop(['M_FLAG', 'Q_FLAG', 'S_FLAG', 'OBS_TIME'], axis=1)\n",
    "\n",
    "    #pivoting DataFrame from Long-form to Wide-Form\n",
    "    df = pd.pivot_table(df, values='DATA_VALUE', index=['ID', 'DATE'], columns=['ELEMENT']).reset_index()\n",
    "\n",
    "    #dropping any columns not in the specified list\n",
    "    df = df.drop(df.columns.difference(cols), axis=1)\n",
    "\n",
    "    return df"
   ]
  },
  {
   "cell_type": "code",
   "execution_count": 16,
   "metadata": {},
   "outputs": [],
   "source": [
    "df2017 = long_to_wide(2017)\n",
    "df2018 = long_to_wide(2018)\n",
    "df2019 = long_to_wide(2019)\n",
    "df2021 = long_to_wide(2021)\n",
    "df2022 = long_to_wide(2022)"
   ]
  },
  {
   "cell_type": "code",
   "execution_count": 17,
   "metadata": {},
   "outputs": [
    {
     "data": {
      "text/html": [
       "<div>\n",
       "<style scoped>\n",
       "    .dataframe tbody tr th:only-of-type {\n",
       "        vertical-align: middle;\n",
       "    }\n",
       "\n",
       "    .dataframe tbody tr th {\n",
       "        vertical-align: top;\n",
       "    }\n",
       "\n",
       "    .dataframe thead th {\n",
       "        text-align: right;\n",
       "    }\n",
       "</style>\n",
       "<table border=\"1\" class=\"dataframe\">\n",
       "  <thead>\n",
       "    <tr style=\"text-align: right;\">\n",
       "      <th>ELEMENT</th>\n",
       "      <th>ID</th>\n",
       "      <th>DATE</th>\n",
       "      <th>AWND</th>\n",
       "      <th>PRCP</th>\n",
       "      <th>SNOW</th>\n",
       "      <th>SNWD</th>\n",
       "      <th>TAVG</th>\n",
       "      <th>TMAX</th>\n",
       "      <th>TMIN</th>\n",
       "      <th>WDF2</th>\n",
       "      <th>WDF5</th>\n",
       "      <th>WSF2</th>\n",
       "      <th>WSF5</th>\n",
       "    </tr>\n",
       "  </thead>\n",
       "  <tbody>\n",
       "    <tr>\n",
       "      <th>3676</th>\n",
       "      <td>USW00003974</td>\n",
       "      <td>20220202</td>\n",
       "      <td>97.0</td>\n",
       "      <td>0.0</td>\n",
       "      <td>NaN</td>\n",
       "      <td>NaN</td>\n",
       "      <td>NaN</td>\n",
       "      <td>-32.0</td>\n",
       "      <td>-110.0</td>\n",
       "      <td>20.0</td>\n",
       "      <td>10.0</td>\n",
       "      <td>134.0</td>\n",
       "      <td>188.0</td>\n",
       "    </tr>\n",
       "    <tr>\n",
       "      <th>17916</th>\n",
       "      <td>USW00014734</td>\n",
       "      <td>20220208</td>\n",
       "      <td>49.0</td>\n",
       "      <td>13.0</td>\n",
       "      <td>0.0</td>\n",
       "      <td>0.0</td>\n",
       "      <td>31.0</td>\n",
       "      <td>78.0</td>\n",
       "      <td>-10.0</td>\n",
       "      <td>300.0</td>\n",
       "      <td>300.0</td>\n",
       "      <td>107.0</td>\n",
       "      <td>139.0</td>\n",
       "    </tr>\n",
       "    <tr>\n",
       "      <th>12419</th>\n",
       "      <td>USW00013886</td>\n",
       "      <td>20220116</td>\n",
       "      <td>67.0</td>\n",
       "      <td>97.0</td>\n",
       "      <td>NaN</td>\n",
       "      <td>NaN</td>\n",
       "      <td>NaN</td>\n",
       "      <td>44.0</td>\n",
       "      <td>-27.0</td>\n",
       "      <td>50.0</td>\n",
       "      <td>40.0</td>\n",
       "      <td>170.0</td>\n",
       "      <td>215.0</td>\n",
       "    </tr>\n",
       "  </tbody>\n",
       "</table>\n",
       "</div>"
      ],
      "text/plain": [
       "ELEMENT           ID      DATE  AWND  PRCP  SNOW  SNWD  TAVG  TMAX   TMIN  \\\n",
       "3676     USW00003974  20220202  97.0   0.0   NaN   NaN   NaN -32.0 -110.0   \n",
       "17916    USW00014734  20220208  49.0  13.0   0.0   0.0  31.0  78.0  -10.0   \n",
       "12419    USW00013886  20220116  67.0  97.0   NaN   NaN   NaN  44.0  -27.0   \n",
       "\n",
       "ELEMENT   WDF2   WDF5   WSF2   WSF5  \n",
       "3676      20.0   10.0  134.0  188.0  \n",
       "17916    300.0  300.0  107.0  139.0  \n",
       "12419     50.0   40.0  170.0  215.0  "
      ]
     },
     "execution_count": 17,
     "metadata": {},
     "output_type": "execute_result"
    }
   ],
   "source": [
    "df2022.sample(3)"
   ]
  },
  {
   "cell_type": "code",
   "execution_count": 18,
   "metadata": {},
   "outputs": [
    {
     "name": "stdout",
     "output_type": "stream",
     "text": [
      "[0.0, 0.0, 1.03, 0.06, 28.66, 31.65, 25.79, 0.06, 0.06, 1.0, 2.03, 1.0, 2.03]\n",
      "31.6\n",
      "[0.0, 0.0, 1.07, 0.03, 29.03, 30.86, 25.51, 0.28, 0.28, 1.06, 1.53, 1.06, 1.53]\n",
      "30.9\n",
      "[0.0, 0.0, 0.99, 0.07, 29.49, 30.84, 25.68, 0.05, 0.05, 0.96, 1.24, 0.96, 1.24]\n",
      "30.8\n",
      "[0.0, 0.0, 0.11, 0.04, 27.38, 29.58, 21.77, 0.03, 0.04, 0.11, 0.52, 0.12, 0.52]\n",
      "29.6\n",
      "[0.0, 0.0, 1.06, 0.09, 32.05, 33.86, 25.59, 0.04, 0.2, 1.07, 1.79, 1.06, 1.79]\n",
      "33.9\n",
      "[0.0, 0.0, 1.68, 0.07, 23.75, 28.62, 25.61, 0.1, 0.59, 1.68, 1.9, 1.68, 1.89]\n",
      "28.6\n"
     ]
    }
   ],
   "source": [
    "#Checking for any abnormally high percentages of Nan in the columns for all years\n",
    "dfs = {}\n",
    "dfs['df2017'] = df2017\n",
    "dfs['df2018'] = df2018\n",
    "dfs['df2019'] = df2019\n",
    "dfs['df2020'] = df2020\n",
    "dfs['df2021'] = df2021\n",
    "dfs['df2022'] = df2022\n",
    "\n",
    "#Looping through each dataframe and calculate the percentage of NaN values in each column\n",
    "for year in range(2017, 2023):\n",
    "    curdf = dfs[f\"df{year}\"]\n",
    "    nan_percentages = round((curdf.isna().sum() / len(curdf)) * 100,2)\n",
    "    nan_percentages = nan_percentages.tolist()\n",
    "    print(nan_percentages)\n",
    "    print(round(max(nan_percentages),1))"
   ]
  },
  {
   "cell_type": "code",
   "execution_count": 19,
   "metadata": {},
   "outputs": [],
   "source": [
    "#Dropping rows containing NaNs\n",
    "for df in dfs:\n",
    "    dfs[df] = dfs[df].dropna()"
   ]
  },
  {
   "cell_type": "code",
   "execution_count": 20,
   "metadata": {},
   "outputs": [],
   "source": [
    "#Exporting Processed Weather Data\n",
    "\n",
    "#creating a dictionary to store the folder names\n",
    "folder_names = {}\n",
    "folder_names['df2017'] = 'weather2017'\n",
    "folder_names['df2018'] = 'weather2018'\n",
    "folder_names['df2019'] = 'weather2019'\n",
    "folder_names['df2020'] = 'weather2020'\n",
    "folder_names['df2021'] = 'weather2021'\n",
    "folder_names['df2022'] = 'weather2022'\n",
    "\n",
    "#exporting each dataframe to its respective folder\n",
    "for key, df in dfs.items():\n",
    "    file_name = f'weather{key[-4:]}.csv'\n",
    "    file_path = f'../processed_data/{file_name}'\n",
    "    df.to_csv(file_path, index=False)"
   ]
  },
  {
   "attachments": {},
   "cell_type": "markdown",
   "metadata": {},
   "source": [
    "### Importing Flight Delay Data"
   ]
  },
  {
   "cell_type": "code",
   "execution_count": null,
   "metadata": {},
   "outputs": [],
   "source": [
    "#importing unprocessed datasets\n",
    "ontime_reporting_df1 = pd.read_csv('../raw_data/01_2019_to_01_2020_T_ONTIME_REPORTING.csv')\n",
    "ontime_reporting_df2 = pd.read_csv('../raw_data/08_2020_to_01_2023_T_ONTIME_REPORTING.csv')"
   ]
  },
  {
   "attachments": {},
   "cell_type": "markdown",
   "metadata": {},
   "source": [
    "[ontime_reporting documentation can be found here](../bin/ontime_reporting_documentation.txt)"
   ]
  },
  {
   "attachments": {},
   "cell_type": "markdown",
   "metadata": {},
   "source": [
    "### Organising the columns and Concatenating the datasets into one dataframe"
   ]
  },
  {
   "cell_type": "code",
   "execution_count": 22,
   "metadata": {},
   "outputs": [
    {
     "name": "stdout",
     "output_type": "stream",
     "text": [
      "['MONTH', 'DAY_OF_MONTH', 'DAY_OF_WEEK', 'OP_UNIQUE_CARRIER', 'TAIL_NUM', 'OP_CARRIER_FL_NUM', 'ORIGIN_AIRPORT_ID', 'ORIGIN', 'ORIGIN_CITY_NAME', 'DEST_AIRPORT_ID', 'DEST', 'DEST_CITY_NAME', 'CRS_DEP_TIME', 'DEP_TIME', 'DEP_DELAY_NEW', 'DEP_DEL15', 'DEP_TIME_BLK', 'CRS_ARR_TIME', 'ARR_TIME', 'ARR_DELAY_NEW', 'ARR_TIME_BLK', 'CANCELLED', 'CANCELLATION_CODE', 'CRS_ELAPSED_TIME', 'ACTUAL_ELAPSED_TIME', 'DISTANCE', 'DISTANCE_GROUP', 'CARRIER_DELAY', 'WEATHER_DELAY', 'NAS_DELAY', 'SECURITY_DELAY', 'LATE_AIRCRAFT_DELAY', 'Unnamed: 32']\n",
      "['YEAR', 'MONTH', 'DAY_OF_MONTH', 'OP_UNIQUE_CARRIER', 'OP_CARRIER_FL_NUM', 'ORIGIN_AIRPORT_ID', 'ORIGIN_AIRPORT_SEQ_ID', 'ORIGIN', 'ORIGIN_CITY_NAME', 'ORIGIN_STATE_ABR', 'DEST_AIRPORT_ID', 'DEST_AIRPORT_SEQ_ID', 'DEST_CITY_MARKET_ID', 'DEP_DELAY', 'CANCELLED', 'CANCELLATION_CODE', 'CARRIER_DELAY', 'WEATHER_DELAY', 'NAS_DELAY', 'SECURITY_DELAY', 'LATE_AIRCRAFT_DELAY']\n"
     ]
    }
   ],
   "source": [
    "#comparing columns of each dataset\n",
    "cols1 = ontime_reporting_df1.columns.tolist()\n",
    "print(cols1)\n",
    "cols2 = ontime_reporting_df2.columns.tolist()\n",
    "print(cols2)"
   ]
  },
  {
   "cell_type": "code",
   "execution_count": 23,
   "metadata": {},
   "outputs": [],
   "source": [
    "#changing the DEP_DELAY_NEW column to DEP_DELAY for consistency\n",
    "ontime_reporting_df1 = ontime_reporting_df1.rename(columns={'DEP_DELAY_NEW': 'DEP_DELAY'})"
   ]
  },
  {
   "cell_type": "code",
   "execution_count": 24,
   "metadata": {},
   "outputs": [
    {
     "name": "stderr",
     "output_type": "stream",
     "text": [
      "c:\\Users\\Elia\\anaconda3\\envs\\python3.6\\lib\\site-packages\\ipykernel_launcher.py:12: UserWarning: Boolean Series key will be reindexed to match DataFrame index.\n",
      "  if sys.path[0] == '':\n"
     ]
    }
   ],
   "source": [
    "# Adding a YEAR column to the first dataframe\n",
    "\n",
    "#Most rows have YEAR = 2019\n",
    "ontime_reporting_df1['YEAR'] = 2019\n",
    "\n",
    "#For rows in the year 2020: \n",
    "\n",
    "#finding the index of the last row of 2019\n",
    "last_2019_index = ontime_reporting_df1[ontime_reporting_df1['MONTH'] == 12].index[-1]\n",
    "\n",
    "#find the index of the first row of 20020\n",
    "first_2020_index = ontime_reporting_df1.loc[last_2019_index+1:][ontime_reporting_df1['MONTH'] == 1].index[0]\n",
    "\n",
    "#setting the YEAR to 2020\n",
    "ontime_reporting_df1.loc[first_2020_index:, 'YEAR'] = 2020\n",
    "\n",
    "\n",
    "#Moving the Year column to the first position\n",
    "\n",
    "#removing the 'YEAR' column and save it to a variable\n",
    "year_col = ontime_reporting_df1.pop('YEAR')\n",
    "\n",
    "#inserting the 'YEAR' column at the beginning of the dataframe\n",
    "ontime_reporting_df1.insert(0, 'YEAR', year_col)"
   ]
  },
  {
   "cell_type": "code",
   "execution_count": 25,
   "metadata": {},
   "outputs": [
    {
     "data": {
      "image/png": "[encoded data removed]",
      "text/plain": [
       "<Figure size 432x288 with 1 Axes>"
      ]
     },
     "metadata": {
      "needs_background": "light"
     },
     "output_type": "display_data"
    }
   ],
   "source": [
    "#Checking that the above changes were done correctly\n",
    "freq_counts = ontime_reporting_df1.groupby(['YEAR', 'MONTH']).size()\n",
    "freq_counts.plot(kind='bar')\n",
    "plt.ylabel('Frequency')\n",
    "plt.xlabel(\"Year, Month Combination\")\n",
    "plt.title(\"Monthly Frequency Chart\")\n",
    "plt.show()"
   ]
  },
  {
   "cell_type": "code",
   "execution_count": 26,
   "metadata": {},
   "outputs": [],
   "source": [
    "#insuring the same columns are in each dataframe\n",
    "\n",
    "#removing extra columns from df1\n",
    "cols2 = ontime_reporting_df2.columns.tolist()\n",
    "#print(cols2)\n",
    "for col in ontime_reporting_df1.columns.tolist():\n",
    "    #print(col)\n",
    "    if col in cols2:\n",
    "        pass\n",
    "    else: \n",
    "        ontime_reporting_df1 = ontime_reporting_df1.drop(col, axis=1)\n",
    "\n",
    "#removing extra columns from df2\n",
    "cols1 = ontime_reporting_df1.columns.tolist()\n",
    "#print(cols1)\n",
    "for col in ontime_reporting_df2.columns.tolist():\n",
    "    #print(col)\n",
    "    if col in cols1:\n",
    "        pass\n",
    "    else: \n",
    "        ontime_reporting_df2 = ontime_reporting_df2.drop(col, axis=1)"
   ]
  },
  {
   "cell_type": "code",
   "execution_count": 27,
   "metadata": {},
   "outputs": [],
   "source": [
    "#concatenation\n",
    "ontime_df = pd.concat([ontime_reporting_df1, ontime_reporting_df2])"
   ]
  },
  {
   "cell_type": "code",
   "execution_count": 28,
   "metadata": {},
   "outputs": [
    {
     "name": "stdout",
     "output_type": "stream",
     "text": [
      "(23094617, 17)\n"
     ]
    },
    {
     "data": {
      "text/html": [
       "<div>\n",
       "<style scoped>\n",
       "    .dataframe tbody tr th:only-of-type {\n",
       "        vertical-align: middle;\n",
       "    }\n",
       "\n",
       "    .dataframe tbody tr th {\n",
       "        vertical-align: top;\n",
       "    }\n",
       "\n",
       "    .dataframe thead th {\n",
       "        text-align: right;\n",
       "    }\n",
       "</style>\n",
       "<table border=\"1\" class=\"dataframe\">\n",
       "  <thead>\n",
       "    <tr style=\"text-align: right;\">\n",
       "      <th></th>\n",
       "      <th>YEAR</th>\n",
       "      <th>MONTH</th>\n",
       "      <th>DAY_OF_MONTH</th>\n",
       "      <th>OP_UNIQUE_CARRIER</th>\n",
       "      <th>OP_CARRIER_FL_NUM</th>\n",
       "      <th>ORIGIN_AIRPORT_ID</th>\n",
       "      <th>ORIGIN</th>\n",
       "      <th>ORIGIN_CITY_NAME</th>\n",
       "      <th>DEST_AIRPORT_ID</th>\n",
       "      <th>DEP_DELAY</th>\n",
       "      <th>CANCELLED</th>\n",
       "      <th>CANCELLATION_CODE</th>\n",
       "      <th>CARRIER_DELAY</th>\n",
       "      <th>WEATHER_DELAY</th>\n",
       "      <th>NAS_DELAY</th>\n",
       "      <th>SECURITY_DELAY</th>\n",
       "      <th>LATE_AIRCRAFT_DELAY</th>\n",
       "    </tr>\n",
       "  </thead>\n",
       "  <tbody>\n",
       "    <tr>\n",
       "      <th>1106464</th>\n",
       "      <td>2020</td>\n",
       "      <td>11</td>\n",
       "      <td>6</td>\n",
       "      <td>9E</td>\n",
       "      <td>4683</td>\n",
       "      <td>11953</td>\n",
       "      <td>GNV</td>\n",
       "      <td>Gainesville, FL</td>\n",
       "      <td>10397</td>\n",
       "      <td>-5.0</td>\n",
       "      <td>0.0</td>\n",
       "      <td>NaN</td>\n",
       "      <td>NaN</td>\n",
       "      <td>NaN</td>\n",
       "      <td>NaN</td>\n",
       "      <td>NaN</td>\n",
       "      <td>NaN</td>\n",
       "    </tr>\n",
       "    <tr>\n",
       "      <th>2644636</th>\n",
       "      <td>2021</td>\n",
       "      <td>3</td>\n",
       "      <td>13</td>\n",
       "      <td>9E</td>\n",
       "      <td>5478</td>\n",
       "      <td>11146</td>\n",
       "      <td>CRW</td>\n",
       "      <td>Charleston/Dunbar, WV</td>\n",
       "      <td>10397</td>\n",
       "      <td>-3.0</td>\n",
       "      <td>0.0</td>\n",
       "      <td>NaN</td>\n",
       "      <td>NaN</td>\n",
       "      <td>NaN</td>\n",
       "      <td>NaN</td>\n",
       "      <td>NaN</td>\n",
       "      <td>NaN</td>\n",
       "    </tr>\n",
       "    <tr>\n",
       "      <th>6961423</th>\n",
       "      <td>2019</td>\n",
       "      <td>12</td>\n",
       "      <td>10</td>\n",
       "      <td>AA</td>\n",
       "      <td>398</td>\n",
       "      <td>13930</td>\n",
       "      <td>ORD</td>\n",
       "      <td>Chicago, IL</td>\n",
       "      <td>12953</td>\n",
       "      <td>0.0</td>\n",
       "      <td>0.0</td>\n",
       "      <td>NaN</td>\n",
       "      <td>NaN</td>\n",
       "      <td>NaN</td>\n",
       "      <td>NaN</td>\n",
       "      <td>NaN</td>\n",
       "      <td>NaN</td>\n",
       "    </tr>\n",
       "  </tbody>\n",
       "</table>\n",
       "</div>"
      ],
      "text/plain": [
       "         YEAR  MONTH  DAY_OF_MONTH OP_UNIQUE_CARRIER  OP_CARRIER_FL_NUM  \\\n",
       "1106464  2020     11             6                9E               4683   \n",
       "2644636  2021      3            13                9E               5478   \n",
       "6961423  2019     12            10                AA                398   \n",
       "\n",
       "         ORIGIN_AIRPORT_ID ORIGIN       ORIGIN_CITY_NAME  DEST_AIRPORT_ID  \\\n",
       "1106464              11953    GNV        Gainesville, FL            10397   \n",
       "2644636              11146    CRW  Charleston/Dunbar, WV            10397   \n",
       "6961423              13930    ORD            Chicago, IL            12953   \n",
       "\n",
       "         DEP_DELAY  CANCELLED CANCELLATION_CODE  CARRIER_DELAY  WEATHER_DELAY  \\\n",
       "1106464       -5.0        0.0               NaN            NaN            NaN   \n",
       "2644636       -3.0        0.0               NaN            NaN            NaN   \n",
       "6961423        0.0        0.0               NaN            NaN            NaN   \n",
       "\n",
       "         NAS_DELAY  SECURITY_DELAY  LATE_AIRCRAFT_DELAY  \n",
       "1106464        NaN             NaN                  NaN  \n",
       "2644636        NaN             NaN                  NaN  \n",
       "6961423        NaN             NaN                  NaN  "
      ]
     },
     "execution_count": 28,
     "metadata": {},
     "output_type": "execute_result"
    }
   ],
   "source": [
    "#result\n",
    "print(ontime_df.shape)\n",
    "ontime_df.sample(3)"
   ]
  },
  {
   "attachments": {},
   "cell_type": "markdown",
   "metadata": {},
   "source": [
    "### Slicing the dataframe based on a chosen Departure Airport"
   ]
  },
  {
   "cell_type": "code",
   "execution_count": 47,
   "metadata": {},
   "outputs": [],
   "source": [
    "def slice_by_id(id):\n",
    "    sliced_df = ontime_df[ontime_df['ORIGIN_AIRPORT_ID'] == id]\n",
    "    filename = f\"ontime_{id}.csv\"\n",
    "    file_path = os.path.join(\"..\", \"processed_data\", filename)\n",
    "    \n",
    "    #dropping columns with NaN > 50%\n",
    "    nan_percentages = sliced_df.isna().mean() * 100\n",
    "    filtered_columns = nan_percentages[nan_percentages > 50]\n",
    "    sliced_df.drop(filtered_columns.index, axis=1, inplace=True)\n",
    "    cols_to_drop = ['OP_CARRIER_FL_NUM', 'ORIGIN', 'ORIGIN_CITY_NAME']\n",
    "    sliced_df.drop(cols_to_drop, axis=1, inplace=True)\n",
    "\n",
    "    # One-hot encode categorical features\n",
    "    sliced_df = pd.get_dummies(sliced_df, columns=['OP_UNIQUE_CARRIER'])\n",
    "    sliced_df = pd.get_dummies(sliced_df, columns=['DEST_AIRPORT_ID'])\n",
    "\n",
    "    # Create intervals of 5 for DEP_DELAY column\n",
    "    #sliced_df['DEP_DELAY_intervals'] = pd.cut(sliced_df['DEP_DELAY'], bins=range(-20, 301, 5), right=False)\n",
    "    #sliced_df = pd.get_dummies(sliced_df, columns=['DEP_DELAY_intervals'])\n",
    "\n",
    "\n",
    "    sliced_df.drop('YEAR', axis = 1, inplace=True)\n",
    "\n",
    "    #Converting month and day into day of the year\n",
    "    sliced_df['date'] = pd.to_datetime(sliced_df['MONTH'].astype(str) + ' ' + sliced_df['DAY_OF_MONTH'].astype(str), format='%m %d')\n",
    "\n",
    "    #calculating the number of days between January 1st and each date\n",
    "    sliced_df['YTD'] = sliced_df['date'] - pd.to_datetime(sliced_df['MONTH'].astype(str).apply(lambda x: '01') + ' ' + '01', format='%m %d')\n",
    "\n",
    "    #extracting the number of days as an integer\n",
    "    sliced_df['YTD'] = sliced_df['YTD'].apply(lambda x: x.days + 1)\n",
    "\n",
    "    #droping MONTH, DAY_OF_MONTH and date columns\n",
    "    sliced_df = sliced_df.drop(['MONTH', 'DAY_OF_MONTH', 'date'], axis=1)\n",
    "\n",
    "    #moving YTD column to the first position\n",
    "    cols = list(sliced_df.columns)\n",
    "    cols = [cols[-1]] + cols[:-1]\n",
    "    sliced_df = sliced_df[cols]\n",
    "\n",
    "\n",
    "    sliced_df.to_csv(file_path, index=False)"
   ]
  },
  {
   "cell_type": "code",
   "execution_count": null,
   "metadata": {},
   "outputs": [],
   "source": [
    "#Slicing for Austin-Bergstrom International Airport\n",
    "slice_by_id(10423)"
   ]
  }
 ],
 "metadata": {
  "kernelspec": {
   "display_name": "python3.6",
   "language": "python",
   "name": "python3"
  },
  "language_info": {
   "codemirror_mode": {
    "name": "ipython",
    "version": 3
   },
   "file_extension": ".py",
   "mimetype": "text/x-python",
   "name": "python",
   "nbconvert_exporter": "python",
   "pygments_lexer": "ipython3",
   "version": "3.6.13"
  },
  "orig_nbformat": 4
 },
 "nbformat": 4,
 "nbformat_minor": 2
}
