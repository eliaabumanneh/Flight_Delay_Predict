{
 "cells": [
  {
   "attachments": {},
   "cell_type": "markdown",
   "metadata": {},
   "source": [
    "<center>\n",
    "\n",
    "# Flight Delay Predict\n",
    "\n",
    "#### Data Science Bootcamp Capstone Project\n",
    "#### Elia Abu-Manneh\n",
    "##### April 11 2023\n",
    "\n",
    "</center"
   ]
  },
  {
   "attachments": {},
   "cell_type": "markdown",
   "metadata": {},
   "source": [
    "## Part 3: Neural Network Modelling"
   ]
  },
  {
   "cell_type": "code",
   "execution_count": 304,
   "metadata": {},
   "outputs": [],
   "source": [
    "# Imports\n",
    "\n",
    "import os\n",
    "import pandas as pd\n",
    "import numpy as np\n",
    "from skimage.io import imread\n",
    "from tqdm import tqdm\n",
    "from sklearn.metrics import accuracy_score, classification_report, confusion_matrix\n",
    "from sklearn.utils import shuffle\n",
    "from sklearn.preprocessing import LabelEncoder, OneHotEncoder, MinMaxScaler\n",
    "from sklearn.model_selection import train_test_split\n",
    "import tensorflow as tf\n",
    "import keras\n",
    "from keras.layers import Dense, Conv2D, MaxPooling2D, Flatten, Dropout\n",
    "from keras.models import Sequential\n",
    "from keras.callbacks import Callback, ReduceLROnPlateau, EarlyStopping\n",
    "from tensorflow.keras.losses import SparseCategoricalCrossentropy, CategoricalCrossentropy\n",
    "from tensorflow.keras import datasets, layers, models\n",
    "from IPython.display import clear_output\n",
    "import matplotlib.pyplot as plt\n",
    "\n",
    "np.random.seed(0)\n",
    "\n",
    "%matplotlib inline\n",
    "import seaborn as sns\n",
    "import PIL\n",
    "from PIL import Image"
   ]
  },
  {
   "attachments": {},
   "cell_type": "markdown",
   "metadata": {},
   "source": [
    "## Make the 5-10 boxes below into a function !!! def model_import(airport_id):"
   ]
  },
  {
   "cell_type": "code",
   "execution_count": 354,
   "metadata": {},
   "outputs": [],
   "source": [
    "ontime_10423 = pd.read_csv('../processed_data/ontime_10423.csv')"
   ]
  },
  {
   "cell_type": "code",
   "execution_count": 355,
   "metadata": {},
   "outputs": [],
   "source": [
    "#y1 = ontime_10423.iloc[:,-64:]\n",
    "y1 = ontime_10423['DEP_DELAY']\n",
    "y1.fillna(0, inplace=True)\n",
    "\n",
    "y2 = ontime_10423['CANCELLED']\n",
    "\n",
    "X_data = ontime_10423.iloc[:,:-64]\n",
    "X_data.drop(['ORIGIN_AIRPORT_ID','DEP_DELAY','CANCELLED'], axis=1, inplace=True)"
   ]
  },
  {
   "cell_type": "code",
   "execution_count": 356,
   "metadata": {},
   "outputs": [
    {
     "data": {
      "text/plain": [
       "(244019, 43)"
      ]
     },
     "execution_count": 356,
     "metadata": {},
     "output_type": "execute_result"
    }
   ],
   "source": [
    "X_data.shape"
   ]
  },
  {
   "cell_type": "code",
   "execution_count": 357,
   "metadata": {},
   "outputs": [
    {
     "data": {
      "text/html": [
       "<div>\n",
       "<style scoped>\n",
       "    .dataframe tbody tr th:only-of-type {\n",
       "        vertical-align: middle;\n",
       "    }\n",
       "\n",
       "    .dataframe tbody tr th {\n",
       "        vertical-align: top;\n",
       "    }\n",
       "\n",
       "    .dataframe thead th {\n",
       "        text-align: right;\n",
       "    }\n",
       "</style>\n",
       "<table border=\"1\" class=\"dataframe\">\n",
       "  <thead>\n",
       "    <tr style=\"text-align: right;\">\n",
       "      <th></th>\n",
       "      <th>YTD</th>\n",
       "      <th>OP_UNIQUE_CARRIER_9E</th>\n",
       "      <th>OP_UNIQUE_CARRIER_AA</th>\n",
       "      <th>OP_UNIQUE_CARRIER_AS</th>\n",
       "      <th>OP_UNIQUE_CARRIER_B6</th>\n",
       "      <th>OP_UNIQUE_CARRIER_DL</th>\n",
       "      <th>OP_UNIQUE_CARRIER_EV</th>\n",
       "      <th>OP_UNIQUE_CARRIER_F9</th>\n",
       "      <th>OP_UNIQUE_CARRIER_G4</th>\n",
       "      <th>OP_UNIQUE_CARRIER_HA</th>\n",
       "      <th>...</th>\n",
       "      <th>DEST_AIRPORT_ID_11042</th>\n",
       "      <th>DEST_AIRPORT_ID_11057</th>\n",
       "      <th>DEST_AIRPORT_ID_11066</th>\n",
       "      <th>DEST_AIRPORT_ID_11193</th>\n",
       "      <th>DEST_AIRPORT_ID_11259</th>\n",
       "      <th>DEST_AIRPORT_ID_11278</th>\n",
       "      <th>DEST_AIRPORT_ID_11292</th>\n",
       "      <th>DEST_AIRPORT_ID_11298</th>\n",
       "      <th>DEST_AIRPORT_ID_11423</th>\n",
       "      <th>DEST_AIRPORT_ID_11433</th>\n",
       "    </tr>\n",
       "  </thead>\n",
       "  <tbody>\n",
       "    <tr>\n",
       "      <th>0</th>\n",
       "      <td>2</td>\n",
       "      <td>1</td>\n",
       "      <td>0</td>\n",
       "      <td>0</td>\n",
       "      <td>0</td>\n",
       "      <td>0</td>\n",
       "      <td>0</td>\n",
       "      <td>0</td>\n",
       "      <td>0</td>\n",
       "      <td>0</td>\n",
       "      <td>...</td>\n",
       "      <td>0</td>\n",
       "      <td>0</td>\n",
       "      <td>0</td>\n",
       "      <td>0</td>\n",
       "      <td>0</td>\n",
       "      <td>0</td>\n",
       "      <td>0</td>\n",
       "      <td>0</td>\n",
       "      <td>0</td>\n",
       "      <td>1</td>\n",
       "    </tr>\n",
       "    <tr>\n",
       "      <th>1</th>\n",
       "      <td>20</td>\n",
       "      <td>0</td>\n",
       "      <td>0</td>\n",
       "      <td>0</td>\n",
       "      <td>0</td>\n",
       "      <td>0</td>\n",
       "      <td>0</td>\n",
       "      <td>0</td>\n",
       "      <td>0</td>\n",
       "      <td>0</td>\n",
       "      <td>...</td>\n",
       "      <td>0</td>\n",
       "      <td>0</td>\n",
       "      <td>0</td>\n",
       "      <td>0</td>\n",
       "      <td>0</td>\n",
       "      <td>0</td>\n",
       "      <td>0</td>\n",
       "      <td>0</td>\n",
       "      <td>0</td>\n",
       "      <td>0</td>\n",
       "    </tr>\n",
       "    <tr>\n",
       "      <th>2</th>\n",
       "      <td>20</td>\n",
       "      <td>0</td>\n",
       "      <td>0</td>\n",
       "      <td>0</td>\n",
       "      <td>0</td>\n",
       "      <td>0</td>\n",
       "      <td>0</td>\n",
       "      <td>0</td>\n",
       "      <td>0</td>\n",
       "      <td>0</td>\n",
       "      <td>...</td>\n",
       "      <td>0</td>\n",
       "      <td>0</td>\n",
       "      <td>0</td>\n",
       "      <td>0</td>\n",
       "      <td>0</td>\n",
       "      <td>0</td>\n",
       "      <td>0</td>\n",
       "      <td>0</td>\n",
       "      <td>0</td>\n",
       "      <td>0</td>\n",
       "    </tr>\n",
       "    <tr>\n",
       "      <th>3</th>\n",
       "      <td>20</td>\n",
       "      <td>0</td>\n",
       "      <td>0</td>\n",
       "      <td>0</td>\n",
       "      <td>0</td>\n",
       "      <td>0</td>\n",
       "      <td>0</td>\n",
       "      <td>0</td>\n",
       "      <td>0</td>\n",
       "      <td>0</td>\n",
       "      <td>...</td>\n",
       "      <td>0</td>\n",
       "      <td>0</td>\n",
       "      <td>0</td>\n",
       "      <td>0</td>\n",
       "      <td>0</td>\n",
       "      <td>0</td>\n",
       "      <td>0</td>\n",
       "      <td>0</td>\n",
       "      <td>0</td>\n",
       "      <td>0</td>\n",
       "    </tr>\n",
       "  </tbody>\n",
       "</table>\n",
       "<p>4 rows × 43 columns</p>\n",
       "</div>"
      ],
      "text/plain": [
       "   YTD  OP_UNIQUE_CARRIER_9E  OP_UNIQUE_CARRIER_AA  OP_UNIQUE_CARRIER_AS  \\\n",
       "0    2                     1                     0                     0   \n",
       "1   20                     0                     0                     0   \n",
       "2   20                     0                     0                     0   \n",
       "3   20                     0                     0                     0   \n",
       "\n",
       "   OP_UNIQUE_CARRIER_B6  OP_UNIQUE_CARRIER_DL  OP_UNIQUE_CARRIER_EV  \\\n",
       "0                     0                     0                     0   \n",
       "1                     0                     0                     0   \n",
       "2                     0                     0                     0   \n",
       "3                     0                     0                     0   \n",
       "\n",
       "   OP_UNIQUE_CARRIER_F9  OP_UNIQUE_CARRIER_G4  OP_UNIQUE_CARRIER_HA  ...  \\\n",
       "0                     0                     0                     0  ...   \n",
       "1                     0                     0                     0  ...   \n",
       "2                     0                     0                     0  ...   \n",
       "3                     0                     0                     0  ...   \n",
       "\n",
       "   DEST_AIRPORT_ID_11042  DEST_AIRPORT_ID_11057  DEST_AIRPORT_ID_11066  \\\n",
       "0                      0                      0                      0   \n",
       "1                      0                      0                      0   \n",
       "2                      0                      0                      0   \n",
       "3                      0                      0                      0   \n",
       "\n",
       "   DEST_AIRPORT_ID_11193  DEST_AIRPORT_ID_11259  DEST_AIRPORT_ID_11278  \\\n",
       "0                      0                      0                      0   \n",
       "1                      0                      0                      0   \n",
       "2                      0                      0                      0   \n",
       "3                      0                      0                      0   \n",
       "\n",
       "   DEST_AIRPORT_ID_11292  DEST_AIRPORT_ID_11298  DEST_AIRPORT_ID_11423  \\\n",
       "0                      0                      0                      0   \n",
       "1                      0                      0                      0   \n",
       "2                      0                      0                      0   \n",
       "3                      0                      0                      0   \n",
       "\n",
       "   DEST_AIRPORT_ID_11433  \n",
       "0                      1  \n",
       "1                      0  \n",
       "2                      0  \n",
       "3                      0  \n",
       "\n",
       "[4 rows x 43 columns]"
      ]
     },
     "execution_count": 357,
     "metadata": {},
     "output_type": "execute_result"
    }
   ],
   "source": [
    "X_data.head(4)"
   ]
  },
  {
   "cell_type": "code",
   "execution_count": 360,
   "metadata": {},
   "outputs": [
    {
     "data": {
      "text/plain": [
       "0          16.0\n",
       "1           0.0\n",
       "2           0.0\n",
       "3           0.0\n",
       "4           1.0\n",
       "          ...  \n",
       "244014      0.0\n",
       "244015      0.0\n",
       "244016      0.0\n",
       "244017    291.0\n",
       "244018      0.0\n",
       "Name: DEP_DELAY, Length: 244019, dtype: float64"
      ]
     },
     "execution_count": 360,
     "metadata": {},
     "output_type": "execute_result"
    }
   ],
   "source": [
    "y1"
   ]
  },
  {
   "cell_type": "code",
   "execution_count": 361,
   "metadata": {},
   "outputs": [
    {
     "data": {
      "text/plain": [
       "0          16.0\n",
       "1           0.0\n",
       "2           0.0\n",
       "3           0.0\n",
       "4           1.0\n",
       "          ...  \n",
       "244014      0.0\n",
       "244015      0.0\n",
       "244016      0.0\n",
       "244017    200.0\n",
       "244018      0.0\n",
       "Name: DEP_DELAY, Length: 244019, dtype: float64"
      ]
     },
     "execution_count": 361,
     "metadata": {},
     "output_type": "execute_result"
    }
   ],
   "source": [
    "y1 = y1.clip(upper=200) #Clipping Any data above 200 will equal 200\n",
    "                        #Clipping is not advisable, the model is not well structured\n",
    "y1"
   ]
  },
  {
   "cell_type": "code",
   "execution_count": 363,
   "metadata": {},
   "outputs": [],
   "source": [
    "# Scale numerical features \n",
    "def ytd_scaler(df):\n",
    "    numerical_cols = ['YTD']\n",
    "    scaler = MinMaxScaler()\n",
    "    dfnum = scaler.fit_transform(df[numerical_cols])\n",
    "    return dfnum"
   ]
  },
  {
   "cell_type": "code",
   "execution_count": 364,
   "metadata": {},
   "outputs": [],
   "source": [
    "X_num = ytd_scaler(X_data)"
   ]
  },
  {
   "cell_type": "code",
   "execution_count": 365,
   "metadata": {},
   "outputs": [],
   "source": [
    "X_data.drop(['YTD'], axis=1, inplace=True)"
   ]
  },
  {
   "cell_type": "code",
   "execution_count": 366,
   "metadata": {},
   "outputs": [],
   "source": [
    "# Combine encoded categorical and scaled numerical features\n",
    "X = np.concatenate((X_data, X_num), axis=1)"
   ]
  },
  {
   "cell_type": "code",
   "execution_count": 367,
   "metadata": {},
   "outputs": [
    {
     "data": {
      "text/plain": [
       "(43,)"
      ]
     },
     "execution_count": 367,
     "metadata": {},
     "output_type": "execute_result"
    }
   ],
   "source": [
    "(X[1]).shape"
   ]
  },
  {
   "cell_type": "code",
   "execution_count": 368,
   "metadata": {},
   "outputs": [
    {
     "name": "stdout",
     "output_type": "stream",
     "text": [
      "[1.         0.         0.         0.         0.         0.\n",
      " 0.         0.         0.         0.         0.         0.\n",
      " 0.         0.         0.         0.         0.         0.\n",
      " 0.         0.         0.         0.         0.         0.\n",
      " 0.         0.         0.         0.         0.         0.\n",
      " 0.         0.         0.         0.         0.         0.\n",
      " 0.         0.         0.         0.         0.         1.\n",
      " 0.00274725]\n"
     ]
    }
   ],
   "source": [
    "print(X[0])"
   ]
  },
  {
   "cell_type": "code",
   "execution_count": 370,
   "metadata": {},
   "outputs": [],
   "source": [
    "# Split data into training and testing sets\n",
    "X_train, X_test, y_train, y_test = train_test_split(X, y1, test_size=0.2, random_state=42) #random_state original 42"
   ]
  },
  {
   "cell_type": "code",
   "execution_count": 371,
   "metadata": {},
   "outputs": [
    {
     "name": "stdout",
     "output_type": "stream",
     "text": [
      "Model: \"sequential_30\"\n",
      "_________________________________________________________________\n",
      "Layer (type)                 Output Shape              Param #   \n",
      "=================================================================\n",
      "dense_105 (Dense)            (None, 128)               5632      \n",
      "_________________________________________________________________\n",
      "dropout_31 (Dropout)         (None, 128)               0         \n",
      "_________________________________________________________________\n",
      "dense_106 (Dense)            (None, 64)                8256      \n",
      "_________________________________________________________________\n",
      "dropout_32 (Dropout)         (None, 64)                0         \n",
      "_________________________________________________________________\n",
      "dense_107 (Dense)            (None, 32)                2080      \n",
      "_________________________________________________________________\n",
      "dense_108 (Dense)            (None, 1)                 33        \n",
      "=================================================================\n",
      "Total params: 16,001\n",
      "Trainable params: 16,001\n",
      "Non-trainable params: 0\n",
      "_________________________________________________________________\n"
     ]
    }
   ],
   "source": [
    "#Define model\n",
    "with tf.device('/device:GPU:0'):\n",
    "    model = keras.Sequential()\n",
    "\n",
    "    model.add(Dense(128, input_dim=43, activation='relu'))\n",
    "\n",
    "    model.add(Dropout(0.25)) \n",
    "\n",
    "    model.add(Dense(64, activation='relu'))\n",
    "\n",
    "    model.add(Dropout(0.25)) \n",
    "\n",
    "    model.add(Dense(32, activation='relu'))\n",
    "      \n",
    "    model.add(Dense(1, activation='linear'))\n",
    "\n",
    "    model.summary()"
   ]
  },
  {
   "cell_type": "code",
   "execution_count": 372,
   "metadata": {},
   "outputs": [
    {
     "data": {
      "text/plain": [
       "43"
      ]
     },
     "execution_count": 372,
     "metadata": {},
     "output_type": "execute_result"
    }
   ],
   "source": [
    "X_train.shape[1]"
   ]
  },
  {
   "cell_type": "code",
   "execution_count": 373,
   "metadata": {},
   "outputs": [],
   "source": [
    "import tensorflow.keras.backend as K\n",
    "def rmse(y_true, y_pred):\n",
    "    return K.sqrt(K.mean(K.square(y_pred - y_true)))\n"
   ]
  },
  {
   "cell_type": "code",
   "execution_count": 375,
   "metadata": {},
   "outputs": [],
   "source": [
    "# Compile model\n",
    "#model.compile(loss=CategoricalCrossentropy,optimizer='adam', metrics=['accuracy'])\n",
    "with tf.device('/device:GPU:0'):\n",
    "    model.compile(\n",
    "        optimizer='adam',  # using the Adam optimizer\n",
    "        loss='mean_squared_error',  # using mean squared error as the loss function\n",
    "        metrics=[rmse]  # using mean squared error as the evaluation metric\n",
    "    )"
   ]
  },
  {
   "cell_type": "code",
   "execution_count": 376,
   "metadata": {},
   "outputs": [
    {
     "name": "stdout",
     "output_type": "stream",
     "text": [
      "Epoch 1/3\n",
      "6101/6101 [==============================] - 25s 4ms/step - loss: 1057.7675 - rmse: 30.3179 - val_loss: 1038.9507 - val_rmse: 29.9924\n",
      "Epoch 2/3\n",
      "6101/6101 [==============================] - 27s 4ms/step - loss: 1056.1663 - rmse: 30.2745 - val_loss: 1039.7876 - val_rmse: 30.1004\n",
      "Epoch 3/3\n",
      "6101/6101 [==============================] - 26s 4ms/step - loss: 1055.0262 - rmse: 30.1843 - val_loss: 1038.1742 - val_rmse: 29.9286\n"
     ]
    }
   ],
   "source": [
    "# Train the model and store the history\n",
    "with tf.device('/device:GPU:0'):\n",
    "    history = model.fit(X_train, y_train, epochs=3, batch_size=32, validation_data=(X_test, y_test))\n"
   ]
  },
  {
   "cell_type": "code",
   "execution_count": 377,
   "metadata": {},
   "outputs": [
    {
     "data": {
      "image/png": "[encoded data removed]",
      "text/plain": [
       "<Figure size 432x288 with 1 Axes>"
      ]
     },
     "metadata": {
      "needs_background": "light"
     },
     "output_type": "display_data"
    }
   ],
   "source": [
    "# Plot the training and validation loss over the epochs\n",
    "plt.plot(history.history['val_rmse'])\n",
    "plt.plot(history.history['rmse'])\n",
    "plt.title('Model Loss')\n",
    "plt.xlabel('Epoch')\n",
    "plt.ylabel('Loss')\n",
    "plt.legend(['train', 'val'], loc='upper right')\n",
    "plt.show()"
   ]
  },
  {
   "cell_type": "code",
   "execution_count": 379,
   "metadata": {},
   "outputs": [
    {
     "name": "stdout",
     "output_type": "stream",
     "text": [
      "[[6.9403734]]\n"
     ]
    }
   ],
   "source": [
    "# Prepare new data for prediction\n",
    "\n",
    "new_data = X[1].reshape(-1,43)  #sample input\n",
    "#type(X[1]) is an numpy.ndarray\n",
    "\n",
    "\n",
    "# Make prediction with the model\n",
    "prediction = model.predict(new_data)\n",
    "print(prediction)"
   ]
  },
  {
   "cell_type": "code",
   "execution_count": 380,
   "metadata": {},
   "outputs": [
    {
     "data": {
      "text/plain": [
       "0.0"
      ]
     },
     "execution_count": 380,
     "metadata": {},
     "output_type": "execute_result"
    }
   ],
   "source": [
    "#Correct Answer \n",
    "y1[1]"
   ]
  },
  {
   "attachments": {},
   "cell_type": "markdown",
   "metadata": {},
   "source": [
    "Lookup: \n",
    "* How to deal with skewed data\n",
    "* Look at how to deal with non-normally distributed data\n",
    "* More specifically for Neural networks\n",
    "\n",
    "* Try changing the neural network"
   ]
  },
  {
   "attachments": {},
   "cell_type": "markdown",
   "metadata": {},
   "source": [
    "Use Absolute Error to assess final accuracy"
   ]
  },
  {
   "cell_type": "code",
   "execution_count": 362,
   "metadata": {},
   "outputs": [
    {
     "data": {
      "image/png": "[encoded data removed]",
      "text/plain": [
       "<Figure size 432x288 with 1 Axes>"
      ]
     },
     "metadata": {
      "needs_background": "light"
     },
     "output_type": "display_data"
    }
   ],
   "source": [
    "y1_filtered = y1  # Filter values below 500\n",
    "y1_filtered.hist()\n",
    "plt.title('Histogram of y1 (Values below 200)')\n",
    "plt.xlabel('Value')\n",
    "plt.ylabel('Frequency')\n",
    "plt.show()"
   ]
  },
  {
   "cell_type": "code",
   "execution_count": 134,
   "metadata": {},
   "outputs": [
    {
     "data": {
      "text/plain": [
       "0         0.0\n",
       "1         0.0\n",
       "2         0.0\n",
       "3         0.0\n",
       "4         0.0\n",
       "         ... \n",
       "244014    1.0\n",
       "244015    1.0\n",
       "244016    1.0\n",
       "244017    0.0\n",
       "244018    1.0\n",
       "Name: CANCELLED, Length: 244019, dtype: float64"
      ]
     },
     "execution_count": 134,
     "metadata": {},
     "output_type": "execute_result"
    }
   ],
   "source": [
    "y2"
   ]
  },
  {
   "attachments": {},
   "cell_type": "markdown",
   "metadata": {},
   "source": [
    "1. Try processing data, modelling for only one airport (eg; Austin) -- DONE --\n",
    "2. Try different buckets of delay (-, 0 , 0-15, 15-30)  \n",
    "3. Try to scale on multiple \n",
    "4. Breakup the notebooks to multiple notebooks -- DONE --\n",
    "5. Insure markdowns, notes are cohesive and clear -- DONE --"
   ]
  }
 ],
 "metadata": {
  "kernelspec": {
   "display_name": "python3.6",
   "language": "python",
   "name": "python3"
  },
  "language_info": {
   "codemirror_mode": {
    "name": "ipython",
    "version": 3
   },
   "file_extension": ".py",
   "mimetype": "text/x-python",
   "name": "python",
   "nbconvert_exporter": "python",
   "pygments_lexer": "ipython3",
   "version": "3.6.13"
  },
  "orig_nbformat": 4
 },
 "nbformat": 4,
 "nbformat_minor": 2
}
