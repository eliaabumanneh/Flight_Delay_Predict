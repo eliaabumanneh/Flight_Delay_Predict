{
 "cells": [
  {
   "cell_type": "code",
   "execution_count": 30,
   "metadata": {},
   "outputs": [],
   "source": [
    "import requests"
   ]
  },
  {
   "cell_type": "markdown",
   "metadata": {},
   "source": [
    "## Current Weather"
   ]
  },
  {
   "cell_type": "code",
   "execution_count": 51,
   "metadata": {},
   "outputs": [
    {
     "name": "stdout",
     "output_type": "stream",
     "text": [
      "Collecting fake_useragent\n",
      "  Downloading fake_useragent-1.1.3-py3-none-any.whl (50 kB)\n",
      "     ---------------------------------------- 50.5/50.5 kB 2.7 MB/s eta 0:00:00\n",
      "Requirement already satisfied: importlib-resources>=5.0 in c:\\users\\loolz\\anaconda3\\lib\\site-packages (from fake_useragent) (5.10.0)\n",
      "Requirement already satisfied: zipp>=3.1.0 in c:\\users\\loolz\\anaconda3\\lib\\site-packages (from importlib-resources>=5.0->fake_useragent) (3.8.0)\n",
      "Installing collected packages: fake_useragent\n",
      "Successfully installed fake_useragent-1.1.3\n",
      "Note: you may need to restart the kernel to use updated packages.\n"
     ]
    }
   ],
   "source": [
    "pip install fake_useragent"
   ]
  },
  {
   "cell_type": "code",
   "execution_count": 52,
   "metadata": {},
   "outputs": [],
   "source": [
    "import requests\n",
    "from bs4 import BeautifulSoup\n",
    "from fake_useragent import UserAgent\n",
    "\n",
    "def get_weather(city_id, state_id, country_id):\n",
    "    ua = UserAgent()\n",
    "    headers = {'User-Agent': ua.random}\n",
    "    response = requests.get(f'https://www.theweathernetwork.com/{country_id}/weather/{state_id}/{city_id}', headers=headers)\n",
    "    if response.status_code == 200:\n",
    "        soup = BeautifulSoup(response.content, 'html.parser')\n",
    "        return soup\n",
    "    else:\n",
    "        print(f'Request failed with status code {response.status_code}')\n",
    "        return None\n"
   ]
  },
  {
   "cell_type": "code",
   "execution_count": 14,
   "metadata": {},
   "outputs": [
    {
     "name": "stdout",
     "output_type": "stream",
     "text": [
      "3\n",
      "°C\n"
     ]
    },
    {
     "ename": "SelectorSyntaxError",
     "evalue": "Expected selector, got <NUMBER '.1' at 29> (<string>)",
     "output_type": "error",
     "traceback": [
      "Traceback \u001b[1;36m(most recent call last)\u001b[0m:\n",
      "  File \u001b[0;32m\"c:\\Users\\loolz\\anaconda3\\lib\\site-packages\\IPython\\core\\interactiveshell.py\"\u001b[0m, line \u001b[0;32m3457\u001b[0m, in \u001b[0;35mrun_code\u001b[0m\n    exec(code_obj, self.user_global_ns, self.user_ns)\n",
      "  File \u001b[0;32m\"C:\\Users\\loolz\\AppData\\Local\\Temp\\ipykernel_17104\\448014619.py\"\u001b[0m, line \u001b[0;32m18\u001b[0m, in \u001b[0;35m<module>\u001b[0m\n    test = r.html.find('div.wob_df wob_ds data-wob-di.1 div.wNE31c div.gNCp2e1 span.wob_t', first=True).text\n",
      "  File \u001b[0;32m\"c:\\Users\\loolz\\anaconda3\\lib\\site-packages\\requests_html.py\"\u001b[0m, line \u001b[0;32m212\u001b[0m, in \u001b[0;35mfind\u001b[0m\n    for found in self.pq(selector)\n",
      "  File \u001b[0;32m\"c:\\Users\\loolz\\anaconda3\\lib\\site-packages\\pyquery\\pyquery.py\"\u001b[0m, line \u001b[0;32m256\u001b[0m, in \u001b[0;35m__call__\u001b[0m\n    result = self._copy(*args, parent=self, **kwargs)\n",
      "  File \u001b[0;32m\"c:\\Users\\loolz\\anaconda3\\lib\\site-packages\\pyquery\\pyquery.py\"\u001b[0m, line \u001b[0;32m242\u001b[0m, in \u001b[0;35m_copy\u001b[0m\n    return self.__class__(*args, **kwargs)\n",
      "  File \u001b[0;32m\"c:\\Users\\loolz\\anaconda3\\lib\\site-packages\\pyquery\\pyquery.py\"\u001b[0m, line \u001b[0;32m227\u001b[0m, in \u001b[0;35m__init__\u001b[0m\n    xpath = self._css_to_xpath(selector)\n",
      "  File \u001b[0;32m\"c:\\Users\\loolz\\anaconda3\\lib\\site-packages\\pyquery\\pyquery.py\"\u001b[0m, line \u001b[0;32m238\u001b[0m, in \u001b[0;35m_css_to_xpath\u001b[0m\n    return self._translator.css_to_xpath(selector, prefix)\n",
      "  File \u001b[0;32m\"c:\\Users\\loolz\\anaconda3\\lib\\site-packages\\cssselect\\xpath.py\"\u001b[0m, line \u001b[0;32m224\u001b[0m, in \u001b[0;35mcss_to_xpath\u001b[0m\n    for selector in parse(css)\n",
      "  File \u001b[0;32m\"c:\\Users\\loolz\\anaconda3\\lib\\site-packages\\cssselect\\parser.py\"\u001b[0m, line \u001b[0;32m543\u001b[0m, in \u001b[0;35mparse\u001b[0m\n    return list(parse_selector_group(stream))\n",
      "  File \u001b[0;32m\"c:\\Users\\loolz\\anaconda3\\lib\\site-packages\\cssselect\\parser.py\"\u001b[0m, line \u001b[0;32m558\u001b[0m, in \u001b[0;35mparse_selector_group\u001b[0m\n    yield Selector(*parse_selector(stream))\n",
      "  File \u001b[0;32m\"c:\\Users\\loolz\\anaconda3\\lib\\site-packages\\cssselect\\parser.py\"\u001b[0m, line \u001b[0;32m585\u001b[0m, in \u001b[0;35mparse_selector\u001b[0m\n    next_selector, pseudo_element = parse_simple_selector(stream)\n",
      "\u001b[1;36m  File \u001b[1;32m\"c:\\Users\\loolz\\anaconda3\\lib\\site-packages\\cssselect\\parser.py\"\u001b[1;36m, line \u001b[1;32m700\u001b[1;36m, in \u001b[1;35mparse_simple_selector\u001b[1;36m\u001b[0m\n\u001b[1;33m    raise SelectorSyntaxError(\"Expected selector, got %s\" % (peek,))\u001b[0m\n",
      "\u001b[1;36m  File \u001b[1;32m\"<string>\"\u001b[1;36m, line \u001b[1;32munknown\u001b[0m\n\u001b[1;31mSelectorSyntaxError\u001b[0m\u001b[1;31m:\u001b[0m Expected selector, got <NUMBER '.1' at 29>\n"
     ]
    }
   ],
   "source": [
    "from requests_html import HTMLSession\n",
    "\n",
    "s = HTMLSession()\n",
    "query = 'toronto'\n",
    "url = f'https://www.google.com/search?q=weather+{query}'\n",
    "\n",
    "r = s.get(url, headers={'User-Agent': 'Mozilla/5.0 (Windows NT 10.0; Win64; x64) AppleWebKit/537.36 (KHTML, like Gecko) Chrome/110.0.0.0 Safari/537.36'})\n",
    "\n",
    "#digging in (pick the id)\n",
    "today_temp = r.html.find('span#wob_tm', first=True).text #format span#{id}\n",
    "print(today_temp)\n",
    "\n",
    "\n",
    "\n",
    "unit = r.html.find('div.vk_bk.wob-unit span.wob_t', first=True).text #class id = vk_bk.wob-unit\n",
    "print(unit)\n",
    "\n",
    "test = r.html.find('div.wob_df wob_ds data-wob-di1 div.wNE31c div.gNCp2e1 span.wob_t', first=True).text\n",
    "print(test)\n",
    "\n",
    "\n",
    "print(r.html.find('div.VQF4g', first=True).find('span#wob_dc', first=True).text)"
   ]
  },
  {
   "cell_type": "code",
   "execution_count": 53,
   "metadata": {},
   "outputs": [],
   "source": [
    "import requests\n",
    "from bs4 import BeautifulSoup\n",
    "\n",
    "# Specify the URL and headers\n",
    "url = 'https://www.google.com/search?q=weather+toront&oq=weather+toronto'\n",
    "headers = {'User-Agent': 'Mozilla/5.0'}\n",
    "\n",
    "# Send a GET request with headers\n",
    "response = requests.get(url, headers=headers)\n",
    "\n",
    "# Parse the HTML content using BeautifulSoup\n",
    "soup = BeautifulSoup(response.content, 'html.parser')\n",
    "\n",
    "# Split the text content into words, skip the first 150 words, and print every 10 words on a separate line\n",
    "words = soup.text.split()[150:]\n",
    "count = 0\n",
    "printing = 0\n",
    "days = ['Monday', 'Tuesday','Wednesday','Thursday','Friday', 'Saturday', 'Sunday']\n",
    "#for word in words:\n",
    " #   if printing == 1:\n",
    "  #      print(word)\n",
    "   # else:\n",
    "    #    if word in days:\n",
    "     #       printing = 1\n",
    "      #      print(word)\n",
    "\n",
    "for word in words: \n",
    "    if word == 'Saturday':\n",
    "        print(word)\n"
   ]
  },
  {
   "cell_type": "code",
   "execution_count": null,
   "metadata": {},
   "outputs": [],
   "source": [
    "#  If my API does not work, Use Sarimax to Predict the Weather"
   ]
  }
 ],
 "metadata": {
  "kernelspec": {
   "display_name": "base",
   "language": "python",
   "name": "python3"
  },
  "language_info": {
   "codemirror_mode": {
    "name": "ipython",
    "version": 3
   },
   "file_extension": ".py",
   "mimetype": "text/x-python",
   "name": "python",
   "nbconvert_exporter": "python",
   "pygments_lexer": "ipython3",
   "version": "3.9.13"
  },
  "orig_nbformat": 4
 },
 "nbformat": 4,
 "nbformat_minor": 2
}
